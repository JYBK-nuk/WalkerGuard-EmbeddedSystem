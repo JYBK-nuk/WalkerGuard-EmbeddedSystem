{
  "cells": [
    {
      "cell_type": "markdown",
      "metadata": {
        "id": "jaq5JJN0VJQN"
      },
      "source": []
    },
    {
      "cell_type": "code",
      "execution_count": 1,
      "metadata": {},
      "outputs": [
        {
          "name": "stdout",
          "output_type": "stream",
          "text": [
            "Requirement already satisfied: ultralytics in c:\\users\\henry\\.conda\\envs\\ml\\lib\\site-packages (8.0.216)\n",
            "Requirement already satisfied: py-cpuinfo in c:\\users\\henry\\.conda\\envs\\ml\\lib\\site-packages (from ultralytics) (9.0.0)\n",
            "Requirement already satisfied: pandas>=1.1.4 in c:\\users\\henry\\appdata\\roaming\\python\\python310\\site-packages (from ultralytics) (1.5.3)\n",
            "Requirement already satisfied: opencv-python>=4.6.0 in c:\\users\\henry\\.conda\\envs\\ml\\lib\\site-packages (from ultralytics) (4.7.0.72)\n",
            "Requirement already satisfied: pillow>=7.1.2 in c:\\users\\henry\\appdata\\roaming\\python\\python310\\site-packages (from ultralytics) (9.5.0)\n",
            "Requirement already satisfied: tqdm>=4.64.0 in c:\\users\\henry\\appdata\\roaming\\python\\python310\\site-packages (from ultralytics) (4.65.0)\n",
            "Requirement already satisfied: thop>=0.1.1 in c:\\users\\henry\\.conda\\envs\\ml\\lib\\site-packages (from ultralytics) (0.1.1.post2209072238)\n",
            "Requirement already satisfied: psutil in c:\\users\\henry\\.conda\\envs\\ml\\lib\\site-packages (from ultralytics) (5.9.0)\n",
            "Requirement already satisfied: pyyaml>=5.3.1 in c:\\users\\henry\\.conda\\envs\\ml\\lib\\site-packages (from ultralytics) (6.0)\n",
            "Requirement already satisfied: scipy>=1.4.1 in c:\\users\\henry\\appdata\\roaming\\python\\python310\\site-packages (from ultralytics) (1.10.1)\n",
            "Requirement already satisfied: torch>=1.8.0 in c:\\users\\henry\\appdata\\roaming\\python\\python310\\site-packages (from ultralytics) (2.0.1)\n",
            "Requirement already satisfied: torchvision>=0.9.0 in c:\\users\\henry\\appdata\\roaming\\python\\python310\\site-packages (from ultralytics) (0.15.2)\n",
            "Requirement already satisfied: numpy>=1.22.2 in c:\\users\\henry\\appdata\\roaming\\python\\python310\\site-packages (from ultralytics) (1.23.5)\n",
            "Requirement already satisfied: requests>=2.23.0 in c:\\users\\henry\\appdata\\roaming\\python\\python310\\site-packages (from ultralytics) (2.28.2)\n",
            "Requirement already satisfied: matplotlib>=3.3.0 in c:\\users\\henry\\.conda\\envs\\ml\\lib\\site-packages (from ultralytics) (3.7.1)\n",
            "Requirement already satisfied: seaborn>=0.11.0 in c:\\users\\henry\\.conda\\envs\\ml\\lib\\site-packages (from ultralytics) (0.13.0)\n",
            "Requirement already satisfied: kiwisolver>=1.0.1 in c:\\users\\henry\\.conda\\envs\\ml\\lib\\site-packages (from matplotlib>=3.3.0->ultralytics) (1.4.4)\n",
            "Requirement already satisfied: fonttools>=4.22.0 in c:\\users\\henry\\.conda\\envs\\ml\\lib\\site-packages (from matplotlib>=3.3.0->ultralytics) (4.39.3)\n",
            "Requirement already satisfied: packaging>=20.0 in c:\\users\\henry\\appdata\\roaming\\python\\python310\\site-packages (from matplotlib>=3.3.0->ultralytics) (23.1)\n",
            "Requirement already satisfied: python-dateutil>=2.7 in c:\\users\\henry\\appdata\\roaming\\python\\python310\\site-packages (from matplotlib>=3.3.0->ultralytics) (2.8.2)\n",
            "Requirement already satisfied: pyparsing>=2.3.1 in c:\\users\\henry\\appdata\\roaming\\python\\python310\\site-packages (from matplotlib>=3.3.0->ultralytics) (3.0.9)\n",
            "Requirement already satisfied: contourpy>=1.0.1 in c:\\users\\henry\\.conda\\envs\\ml\\lib\\site-packages (from matplotlib>=3.3.0->ultralytics) (1.0.7)\n",
            "Requirement already satisfied: cycler>=0.10 in c:\\users\\henry\\.conda\\envs\\ml\\lib\\site-packages (from matplotlib>=3.3.0->ultralytics) (0.11.0)\n",
            "Requirement already satisfied: pytz>=2020.1 in c:\\users\\henry\\appdata\\roaming\\python\\python310\\site-packages (from pandas>=1.1.4->ultralytics) (2023.3)\n",
            "Requirement already satisfied: charset-normalizer<4,>=2 in c:\\users\\henry\\appdata\\roaming\\python\\python310\\site-packages (from requests>=2.23.0->ultralytics) (3.1.0)\n",
            "Requirement already satisfied: urllib3<1.27,>=1.21.1 in c:\\users\\henry\\appdata\\roaming\\python\\python310\\site-packages (from requests>=2.23.0->ultralytics) (1.26.16)\n",
            "Requirement already satisfied: certifi>=2017.4.17 in c:\\users\\henry\\appdata\\roaming\\python\\python310\\site-packages (from requests>=2.23.0->ultralytics) (2023.5.7)\n",
            "Requirement already satisfied: idna<4,>=2.5 in c:\\users\\henry\\.conda\\envs\\ml\\lib\\site-packages (from requests>=2.23.0->ultralytics) (3.4)\n",
            "Requirement already satisfied: filelock in c:\\users\\henry\\appdata\\roaming\\python\\python310\\site-packages (from torch>=1.8.0->ultralytics) (3.12.0)\n",
            "Requirement already satisfied: typing-extensions in c:\\users\\henry\\appdata\\roaming\\python\\python310\\site-packages (from torch>=1.8.0->ultralytics) (4.5.0)\n",
            "Requirement already satisfied: networkx in c:\\users\\henry\\appdata\\roaming\\python\\python310\\site-packages (from torch>=1.8.0->ultralytics) (3.1)\n",
            "Requirement already satisfied: sympy in c:\\users\\henry\\appdata\\roaming\\python\\python310\\site-packages (from torch>=1.8.0->ultralytics) (1.12)\n",
            "Requirement already satisfied: jinja2 in c:\\users\\henry\\appdata\\roaming\\python\\python310\\site-packages (from torch>=1.8.0->ultralytics) (3.1.2)\n",
            "Requirement already satisfied: colorama in c:\\users\\henry\\.conda\\envs\\ml\\lib\\site-packages (from tqdm>=4.64.0->ultralytics) (0.4.6)\n",
            "Requirement already satisfied: six>=1.5 in c:\\users\\henry\\appdata\\roaming\\python\\python310\\site-packages (from python-dateutil>=2.7->matplotlib>=3.3.0->ultralytics) (1.16.0)\n",
            "Requirement already satisfied: MarkupSafe>=2.0 in c:\\users\\henry\\appdata\\roaming\\python\\python310\\site-packages (from jinja2->torch>=1.8.0->ultralytics) (2.1.3)\n",
            "Requirement already satisfied: mpmath>=0.19 in c:\\users\\henry\\appdata\\roaming\\python\\python310\\site-packages (from sympy->torch>=1.8.0->ultralytics) (1.3.0)\n",
            "Note: you may need to restart the kernel to use updated packages.\n",
            "Requirement already satisfied: powershell_kernel in c:\\users\\henry\\.conda\\envs\\ml\\lib\\site-packages (0.1.4)\n",
            "Note: you may need to restart the kernel to use updated packages.\n"
          ]
        }
      ],
      "source": [
        "%pip install ultralytics\n",
        "%pip install powershell_kernel"
      ]
    },
    {
      "cell_type": "code",
      "execution_count": 6,
      "metadata": {
        "colab": {
          "base_uri": "https://localhost:8080/"
        },
        "id": "iW3m9HxOV6_u",
        "outputId": "b8f5388b-ceb2-4051-bb1e-df41c78cb43c"
      },
      "outputs": [
        {
          "name": "stdout",
          "output_type": "stream",
          "text": [
            "Downloading car-plate-detection.zip to h:\\Repos\\WalkerGuard-EmbeddedSystem\\yolov8\\License_Plate\n",
            "\n"
          ]
        },
        {
          "name": "stderr",
          "output_type": "stream",
          "text": [
            "\n",
            "  0%|          | 0.00/203M [00:00<?, ?B/s]\n",
            "  0%|          | 1.00M/203M [00:00<02:42, 1.30MB/s]\n",
            "  1%|          | 2.00M/203M [00:00<01:21, 2.58MB/s]\n",
            "  2%|▏         | 4.00M/203M [00:01<00:41, 5.05MB/s]\n",
            "  3%|▎         | 6.00M/203M [00:01<00:30, 6.87MB/s]\n",
            "  4%|▍         | 8.00M/203M [00:01<00:24, 8.27MB/s]\n",
            "  5%|▍         | 10.0M/203M [00:01<00:21, 9.23MB/s]\n",
            "  6%|▌         | 12.0M/203M [00:01<00:20, 9.78MB/s]\n",
            "  7%|▋         | 14.0M/203M [00:02<00:19, 10.2MB/s]\n",
            "  8%|▊         | 16.0M/203M [00:02<00:18, 10.7MB/s]\n",
            "  9%|▉         | 18.0M/203M [00:02<00:17, 11.0MB/s]\n",
            " 10%|▉         | 20.0M/203M [00:02<00:17, 11.2MB/s]\n",
            " 11%|█         | 22.0M/203M [00:02<00:16, 11.3MB/s]\n",
            " 12%|█▏        | 24.0M/203M [00:02<00:16, 11.5MB/s]\n",
            " 13%|█▎        | 26.0M/203M [00:03<00:16, 11.6MB/s]\n",
            " 14%|█▍        | 28.0M/203M [00:03<00:16, 11.4MB/s]\n",
            " 15%|█▍        | 30.0M/203M [00:03<00:16, 11.0MB/s]\n",
            " 16%|█▌        | 32.0M/203M [00:03<00:16, 11.2MB/s]\n",
            " 17%|█▋        | 34.0M/203M [00:03<00:15, 11.4MB/s]\n",
            " 18%|█▊        | 36.0M/203M [00:04<00:15, 11.5MB/s]\n",
            " 19%|█▊        | 38.0M/203M [00:04<00:14, 11.5MB/s]\n",
            " 20%|█▉        | 40.0M/203M [00:04<00:14, 11.6MB/s]\n",
            " 21%|██        | 42.0M/203M [00:04<00:14, 11.6MB/s]\n",
            " 22%|██▏       | 44.0M/203M [00:04<00:14, 11.5MB/s]\n",
            " 23%|██▎       | 46.0M/203M [00:04<00:14, 11.5MB/s]\n",
            " 24%|██▎       | 48.0M/203M [00:05<00:14, 11.5MB/s]\n",
            " 25%|██▍       | 50.0M/203M [00:05<00:14, 11.3MB/s]\n",
            " 26%|██▌       | 52.0M/203M [00:05<00:14, 10.6MB/s]\n",
            " 27%|██▋       | 54.0M/203M [00:05<00:16, 9.53MB/s]\n",
            " 28%|██▊       | 56.0M/203M [00:05<00:15, 10.0MB/s]\n",
            " 29%|██▊       | 58.0M/203M [00:06<00:14, 10.6MB/s]\n",
            " 30%|██▉       | 60.0M/203M [00:06<00:13, 10.8MB/s]\n",
            " 31%|███       | 62.0M/203M [00:06<00:13, 11.0MB/s]\n",
            " 32%|███▏      | 64.0M/203M [00:06<00:13, 11.2MB/s]\n",
            " 33%|███▎      | 66.0M/203M [00:06<00:12, 11.4MB/s]\n",
            " 33%|███▎      | 68.0M/203M [00:07<00:12, 11.5MB/s]\n",
            " 34%|███▍      | 70.0M/203M [00:07<00:12, 11.6MB/s]\n",
            " 35%|███▌      | 72.0M/203M [00:07<00:11, 11.6MB/s]\n",
            " 36%|███▋      | 74.0M/203M [00:07<00:11, 11.6MB/s]\n",
            " 37%|███▋      | 76.0M/203M [00:07<00:11, 11.5MB/s]\n",
            " 38%|███▊      | 78.0M/203M [00:07<00:11, 11.6MB/s]\n",
            " 39%|███▉      | 80.0M/203M [00:08<00:11, 11.5MB/s]\n",
            " 40%|████      | 82.0M/203M [00:08<00:11, 11.4MB/s]\n",
            " 41%|████▏     | 84.0M/203M [00:08<00:11, 11.1MB/s]\n",
            " 42%|████▏     | 86.0M/203M [00:08<00:12, 10.1MB/s]\n",
            " 43%|████▎     | 87.0M/203M [00:08<00:12, 9.84MB/s]\n",
            " 43%|████▎     | 88.0M/203M [00:09<00:12, 9.55MB/s]\n",
            " 44%|████▍     | 89.0M/203M [00:09<00:12, 9.30MB/s]\n",
            " 44%|████▍     | 90.0M/203M [00:09<00:13, 9.10MB/s]\n",
            " 45%|████▍     | 91.0M/203M [00:09<00:13, 8.94MB/s]\n",
            " 45%|████▌     | 92.0M/203M [00:09<00:13, 8.81MB/s]\n",
            " 46%|████▌     | 93.0M/203M [00:09<00:13, 8.75MB/s]\n",
            " 46%|████▋     | 94.0M/203M [00:09<00:13, 8.61MB/s]\n",
            " 47%|████▋     | 95.0M/203M [00:09<00:13, 8.64MB/s]\n",
            " 47%|████▋     | 96.0M/203M [00:10<00:13, 8.57MB/s]\n",
            " 48%|████▊     | 97.0M/203M [00:10<00:13, 8.50MB/s]\n",
            " 48%|████▊     | 98.0M/203M [00:10<00:12, 8.58MB/s]\n",
            " 49%|████▉     | 99.0M/203M [00:10<00:12, 8.46MB/s]\n",
            " 49%|████▉     | 100M/203M [00:10<00:12, 8.55MB/s] \n",
            " 50%|████▉     | 101M/203M [00:10<00:12, 8.57MB/s]\n",
            " 50%|█████     | 102M/203M [00:10<00:14, 7.42MB/s]\n",
            " 51%|█████     | 103M/203M [00:10<00:14, 7.32MB/s]\n",
            " 52%|█████▏    | 105M/203M [00:11<00:11, 8.87MB/s]\n",
            " 52%|█████▏    | 106M/203M [00:11<00:11, 9.15MB/s]\n",
            " 53%|█████▎    | 107M/203M [00:11<00:11, 8.98MB/s]\n",
            " 53%|█████▎    | 108M/203M [00:11<00:11, 8.85MB/s]\n",
            " 54%|█████▎    | 109M/203M [00:11<00:11, 8.77MB/s]\n",
            " 54%|█████▍    | 110M/203M [00:11<00:11, 8.69MB/s]\n",
            " 55%|█████▍    | 111M/203M [00:11<00:11, 8.55MB/s]\n",
            " 55%|█████▌    | 112M/203M [00:11<00:11, 8.64MB/s]\n",
            " 56%|█████▌    | 113M/203M [00:12<00:10, 8.60MB/s]\n",
            " 56%|█████▌    | 114M/203M [00:12<00:10, 8.59MB/s]\n",
            " 57%|█████▋    | 115M/203M [00:12<00:10, 8.56MB/s]\n",
            " 57%|█████▋    | 116M/203M [00:12<00:10, 8.35MB/s]\n",
            " 58%|█████▊    | 117M/203M [00:12<00:10, 8.59MB/s]\n",
            " 58%|█████▊    | 118M/203M [00:12<00:10, 8.59MB/s]\n",
            " 59%|█████▊    | 119M/203M [00:12<00:10, 8.50MB/s]\n",
            " 59%|█████▉    | 120M/203M [00:12<00:10, 8.56MB/s]\n",
            " 60%|█████▉    | 121M/203M [00:13<00:10, 8.57MB/s]\n",
            " 60%|██████    | 122M/203M [00:13<00:09, 8.55MB/s]\n",
            " 61%|██████    | 123M/203M [00:13<00:09, 8.53MB/s]\n",
            " 61%|██████    | 124M/203M [00:13<00:09, 8.54MB/s]\n",
            " 62%|██████▏   | 125M/203M [00:13<00:09, 8.34MB/s]\n",
            " 62%|██████▏   | 126M/203M [00:13<00:10, 8.08MB/s]\n",
            " 63%|██████▎   | 128M/203M [00:13<00:09, 8.68MB/s]\n",
            " 64%|██████▎   | 129M/203M [00:14<00:08, 8.65MB/s]\n",
            " 64%|██████▍   | 130M/203M [00:14<00:08, 8.62MB/s]\n",
            " 65%|██████▍   | 131M/203M [00:14<00:08, 8.51MB/s]\n",
            " 65%|██████▌   | 132M/203M [00:14<00:08, 8.60MB/s]\n",
            " 66%|██████▌   | 133M/203M [00:14<00:08, 8.58MB/s]\n",
            " 66%|██████▌   | 134M/203M [00:14<00:08, 8.51MB/s]\n",
            " 66%|██████▋   | 135M/203M [00:14<00:08, 8.42MB/s]\n",
            " 67%|██████▋   | 136M/203M [00:14<00:08, 8.58MB/s]\n",
            " 67%|██████▋   | 137M/203M [00:15<00:08, 8.59MB/s]\n",
            " 68%|██████▊   | 138M/203M [00:15<00:07, 8.57MB/s]\n",
            " 68%|██████▊   | 139M/203M [00:15<00:07, 8.55MB/s]\n",
            " 69%|██████▉   | 140M/203M [00:15<00:07, 8.54MB/s]\n",
            " 69%|██████▉   | 141M/203M [00:15<00:07, 8.53MB/s]\n",
            " 70%|██████▉   | 142M/203M [00:15<00:07, 8.53MB/s]\n",
            " 70%|███████   | 143M/203M [00:15<00:07, 8.46MB/s]\n",
            " 71%|███████   | 144M/203M [00:15<00:07, 8.12MB/s]\n",
            " 71%|███████▏  | 145M/203M [00:16<00:08, 6.97MB/s]\n",
            " 72%|███████▏  | 147M/203M [00:16<00:06, 8.54MB/s]\n",
            " 73%|███████▎  | 149M/203M [00:16<00:06, 9.02MB/s]\n",
            " 74%|███████▍  | 150M/203M [00:16<00:06, 8.88MB/s]\n",
            " 74%|███████▍  | 151M/203M [00:16<00:06, 8.67MB/s]\n",
            " 75%|███████▍  | 152M/203M [00:16<00:06, 8.57MB/s]\n",
            " 75%|███████▌  | 153M/203M [00:17<00:05, 8.79MB/s]\n",
            " 76%|███████▌  | 154M/203M [00:17<00:05, 8.71MB/s]\n",
            " 76%|███████▋  | 155M/203M [00:17<00:05, 8.66MB/s]\n",
            " 77%|███████▋  | 156M/203M [00:17<00:05, 8.62MB/s]\n",
            " 77%|███████▋  | 157M/203M [00:17<00:05, 8.45MB/s]\n",
            " 78%|███████▊  | 158M/203M [00:17<00:05, 8.56MB/s]\n",
            " 78%|███████▊  | 159M/203M [00:17<00:05, 8.60MB/s]\n",
            " 79%|███████▉  | 160M/203M [00:17<00:05, 8.57MB/s]\n",
            " 79%|███████▉  | 161M/203M [00:18<00:05, 8.37MB/s]\n",
            " 80%|███████▉  | 162M/203M [00:18<00:04, 8.62MB/s]\n",
            " 80%|████████  | 163M/203M [00:18<00:04, 8.54MB/s]\n",
            " 81%|████████  | 164M/203M [00:18<00:04, 8.59MB/s]\n",
            " 81%|████████▏ | 165M/203M [00:18<00:04, 8.57MB/s]\n",
            " 82%|████████▏ | 166M/203M [00:18<00:04, 8.28MB/s]\n",
            " 82%|████████▏ | 167M/203M [00:18<00:04, 8.64MB/s]\n",
            " 83%|████████▎ | 168M/203M [00:18<00:04, 8.48MB/s]\n",
            " 83%|████████▎ | 169M/203M [00:19<00:04, 8.63MB/s]\n",
            " 84%|████████▎ | 170M/203M [00:19<00:04, 8.58MB/s]\n",
            " 84%|████████▍ | 171M/203M [00:19<00:03, 8.57MB/s]\n",
            " 85%|████████▍ | 172M/203M [00:19<00:03, 8.55MB/s]\n",
            " 85%|████████▌ | 173M/203M [00:19<00:03, 8.52MB/s]\n",
            " 86%|████████▌ | 174M/203M [00:19<00:03, 8.56MB/s]\n",
            " 86%|████████▌ | 175M/203M [00:19<00:03, 8.55MB/s]\n",
            " 87%|████████▋ | 176M/203M [00:19<00:03, 8.47MB/s]\n",
            " 87%|████████▋ | 177M/203M [00:19<00:03, 8.54MB/s]\n",
            " 88%|████████▊ | 178M/203M [00:20<00:03, 8.54MB/s]\n",
            " 88%|████████▊ | 179M/203M [00:20<00:02, 8.53MB/s]\n",
            " 89%|████████▊ | 180M/203M [00:20<00:02, 8.55MB/s]\n",
            " 89%|████████▉ | 181M/203M [00:20<00:02, 8.53MB/s]\n",
            " 90%|████████▉ | 182M/203M [00:20<00:02, 8.55MB/s]\n",
            " 90%|█████████ | 183M/203M [00:20<00:02, 8.50MB/s]\n",
            " 91%|█████████ | 184M/203M [00:20<00:02, 8.47MB/s]\n",
            " 91%|█████████ | 185M/203M [00:20<00:02, 8.54MB/s]\n",
            " 92%|█████████▏| 186M/203M [00:21<00:02, 8.42MB/s]\n",
            " 92%|█████████▏| 187M/203M [00:21<00:02, 7.38MB/s]\n",
            " 93%|█████████▎| 188M/203M [00:21<00:02, 7.26MB/s]\n",
            " 94%|█████████▎| 190M/203M [00:21<00:01, 8.80MB/s]\n",
            " 95%|█████████▍| 192M/203M [00:21<00:01, 9.02MB/s]\n",
            " 95%|█████████▌| 193M/203M [00:21<00:01, 8.93MB/s]\n",
            " 96%|█████████▌| 194M/203M [00:22<00:01, 8.87MB/s]\n",
            " 96%|█████████▌| 195M/203M [00:22<00:00, 8.74MB/s]\n",
            " 97%|█████████▋| 196M/203M [00:22<00:00, 8.74MB/s]\n",
            " 97%|█████████▋| 197M/203M [00:22<00:00, 8.61MB/s]\n",
            " 98%|█████████▊| 198M/203M [00:22<00:00, 8.60MB/s]\n",
            " 98%|█████████▊| 199M/203M [00:22<00:00, 8.62MB/s]\n",
            " 98%|█████████▊| 200M/203M [00:22<00:00, 8.55MB/s]\n",
            " 99%|█████████▉| 201M/203M [00:22<00:00, 8.54MB/s]\n",
            " 99%|█████████▉| 202M/203M [00:23<00:00, 8.58MB/s]\n",
            "100%|█████████▉| 203M/203M [00:23<00:00, 8.35MB/s]\n",
            "100%|██████████| 203M/203M [00:23<00:00, 9.18MB/s]\n"
          ]
        }
      ],
      "source": [
        "!kaggle datasets download -d andrewmvd/car-plate-detection"
      ]
    },
    {
      "cell_type": "code",
      "execution_count": 2,
      "metadata": {
        "id": "5KYJtCenXM0N"
      },
      "outputs": [],
      "source": [
        "import xml.etree.ElementTree as ET\n",
        "from tqdm import tqdm\n",
        "from pathlib import Path\n",
        "import shutil\n",
        "\n",
        "def convert_label(path, lb_path):\n",
        "  def convert_box(size, box):\n",
        "    dw, dh = 1. / size[0], 1. / size[1]\n",
        "    x, y, w, h = (box[0] + box[1]) / 2.0 - 1, (box[2] + box[3]) / 2.0 - 1, box[1] - box[0], box[3] - box[2]\n",
        "    return x * dw, y * dh, w * dw, h * dh\n",
        "\n",
        "  in_file = open(path)\n",
        "  out_file = open(lb_path, 'w')\n",
        "  tree = ET.parse(in_file)\n",
        "  root = tree.getroot()\n",
        "  size = root.find('size')\n",
        "  w = int(size.find('width').text)\n",
        "  h = int(size.find('height').text)\n",
        "\n",
        "  names = [\"licence\"] # names list\n",
        "  for obj in root.iter('object'):\n",
        "    cls = obj.find('name').text\n",
        "    if cls in names and int(obj.find('difficult').text) != 1:\n",
        "      xmlbox = obj.find('bndbox')\n",
        "      bb = convert_box((w, h), [float(xmlbox.find(x).text) for x in ('xmin', 'xmax', 'ymin', 'ymax')])\n",
        "      cls_id = names.index(cls)  # class id\n",
        "      out_file.write(\" \".join([str(a) for a in (cls_id, *bb)]) + '\\n')\n"
      ]
    },
    {
      "cell_type": "code",
      "execution_count": 3,
      "metadata": {
        "id": "iBpgItd5XVQV"
      },
      "outputs": [],
      "source": [
        "path = Path(\"./yolo\")\n",
        "for dir in (\"train\" , \"valid\"):\n",
        "  imgs_path = path / dir / 'images'\n",
        "  lbs_path = path / dir / 'labels'\n",
        "  imgs_path.mkdir(exist_ok=True, parents=True)\n",
        "  lbs_path.mkdir(exist_ok=True, parents=True)\n",
        "\n",
        "train_valid_ratio = 0.9\n",
        "annotations = list(Path(\"./annotations/\").glob(\"*.xml\"))\n",
        "for idx , an_path in enumerate(annotations):\n",
        "  target_lb_path = path / 'train' / 'labels' if idx < train_valid_ratio * len(annotations) else path / 'valid' / 'labels'\n",
        "  target_img_path = path / 'train' / 'images' if idx < train_valid_ratio * len(annotations) else path / 'valid' / 'images'\n",
        "  lb_path = (target_lb_path / an_path.name).with_suffix('.txt')  # new label path\n",
        "  shutil.copy( (Path(\"./images\") / an_path.name).with_suffix('.png') , target_img_path)\n",
        "  convert_label(an_path, lb_path)  # convert labels to YOLO format\n"
      ]
    },
    {
      "cell_type": "code",
      "execution_count": 4,
      "metadata": {
        "id": "eSbLsbJwYMWk"
      },
      "outputs": [],
      "source": [
        "yaml_file = \"\"\"\n",
        "path: ../yolo\n",
        "train: train/images\n",
        "val: valid/images\n",
        "\n",
        "names:\n",
        " 0: licence\n",
        "\"\"\"\n",
        "with open(\"car_plate.yaml\" , 'w') as f:\n",
        "  f.write(yaml_file)\n"
      ]
    },
    {
      "cell_type": "code",
      "execution_count": 1,
      "metadata": {
        "colab": {
          "base_uri": "https://localhost:8080/"
        },
        "id": "2GpKk3s9YfaG",
        "outputId": "8fb16ed8-ee85-40d4-c21a-e43d83c0fcad"
      },
      "outputs": [
        {
          "name": "stdout",
          "output_type": "stream",
          "text": [
            "cuda is available\n",
            "Training.........\n",
            "Ultralytics YOLOv8.0.216 🚀 Python-3.10.13 torch-2.0.1+cu118 CUDA:0 (NVIDIA GeForce RTX 2070 SUPER, 8192MiB)\n",
            "\u001b[34m\u001b[1mengine\\trainer: \u001b[0mtask=detect, mode=train, model=YOLOv8n.pt, data=./car_plate.yaml, epochs=150, patience=50, batch=16, imgsz=640, save=True, save_period=-1, cache=False, device=None, workers=8, project=None, name=train, exist_ok=False, pretrained=True, optimizer=auto, verbose=True, seed=0, deterministic=True, single_cls=False, rect=False, cos_lr=False, close_mosaic=10, resume=False, amp=True, fraction=1.0, profile=False, freeze=None, overlap_mask=True, mask_ratio=4, dropout=0.0, val=True, split=val, save_json=False, save_hybrid=False, conf=None, iou=0.7, max_det=300, half=False, dnn=False, plots=True, source=None, show=False, save_txt=False, save_conf=False, save_crop=False, show_labels=True, show_conf=True, vid_stride=1, stream_buffer=False, line_width=None, visualize=False, augment=False, agnostic_nms=False, classes=None, retina_masks=False, boxes=True, format=torchscript, keras=False, optimize=False, int8=False, dynamic=False, simplify=False, opset=None, workspace=4, nms=False, lr0=0.01, lrf=0.01, momentum=0.937, weight_decay=0.0005, warmup_epochs=3.0, warmup_momentum=0.8, warmup_bias_lr=0.1, box=7.5, cls=0.5, dfl=1.5, pose=12.0, kobj=1.0, label_smoothing=0.0, nbs=64, hsv_h=0.015, hsv_s=0.7, hsv_v=0.4, degrees=0.0, translate=0.1, scale=0.5, shear=0.0, perspective=0.0, flipud=0.0, fliplr=0.5, mosaic=1.0, mixup=0.0, copy_paste=0.0, cfg=None, tracker=botsort.yaml, save_dir=runs\\detect\\train\n",
            "Overriding model.yaml nc=80 with nc=1\n",
            "\n",
            "                   from  n    params  module                                       arguments                     \n",
            "  0                  -1  1       464  ultralytics.nn.modules.conv.Conv             [3, 16, 3, 2]                 \n",
            "  1                  -1  1      4672  ultralytics.nn.modules.conv.Conv             [16, 32, 3, 2]                \n",
            "  2                  -1  1      7360  ultralytics.nn.modules.block.C2f             [32, 32, 1, True]             \n",
            "  3                  -1  1     18560  ultralytics.nn.modules.conv.Conv             [32, 64, 3, 2]                \n",
            "  4                  -1  2     49664  ultralytics.nn.modules.block.C2f             [64, 64, 2, True]             \n",
            "  5                  -1  1     73984  ultralytics.nn.modules.conv.Conv             [64, 128, 3, 2]               \n",
            "  6                  -1  2    197632  ultralytics.nn.modules.block.C2f             [128, 128, 2, True]           \n",
            "  7                  -1  1    295424  ultralytics.nn.modules.conv.Conv             [128, 256, 3, 2]              \n",
            "  8                  -1  1    460288  ultralytics.nn.modules.block.C2f             [256, 256, 1, True]           \n",
            "  9                  -1  1    164608  ultralytics.nn.modules.block.SPPF            [256, 256, 5]                 \n",
            " 10                  -1  1         0  torch.nn.modules.upsampling.Upsample         [None, 2, 'nearest']          \n",
            " 11             [-1, 6]  1         0  ultralytics.nn.modules.conv.Concat           [1]                           \n",
            " 12                  -1  1    148224  ultralytics.nn.modules.block.C2f             [384, 128, 1]                 \n",
            " 13                  -1  1         0  torch.nn.modules.upsampling.Upsample         [None, 2, 'nearest']          \n",
            " 14             [-1, 4]  1         0  ultralytics.nn.modules.conv.Concat           [1]                           \n",
            " 15                  -1  1     37248  ultralytics.nn.modules.block.C2f             [192, 64, 1]                  \n",
            " 16                  -1  1     36992  ultralytics.nn.modules.conv.Conv             [64, 64, 3, 2]                \n",
            " 17            [-1, 12]  1         0  ultralytics.nn.modules.conv.Concat           [1]                           \n",
            " 18                  -1  1    123648  ultralytics.nn.modules.block.C2f             [192, 128, 1]                 \n",
            " 19                  -1  1    147712  ultralytics.nn.modules.conv.Conv             [128, 128, 3, 2]              \n",
            " 20             [-1, 9]  1         0  ultralytics.nn.modules.conv.Concat           [1]                           \n",
            " 21                  -1  1    493056  ultralytics.nn.modules.block.C2f             [384, 256, 1]                 \n",
            " 22        [15, 18, 21]  1    751507  ultralytics.nn.modules.head.Detect           [1, [64, 128, 256]]           \n",
            "Model summary: 225 layers, 3011043 parameters, 3011027 gradients, 8.2 GFLOPs\n",
            "\n",
            "Transferred 319/355 items from pretrained weights\n",
            "\u001b[34m\u001b[1mTensorBoard: \u001b[0mStart with 'tensorboard --logdir runs\\detect\\train', view at http://localhost:6006/\n",
            "Freezing layer 'model.22.dfl.conv.weight'\n",
            "\u001b[34m\u001b[1mAMP: \u001b[0mrunning Automatic Mixed Precision (AMP) checks with YOLOv8n...\n",
            "\u001b[34m\u001b[1mAMP: \u001b[0mchecks failed ❌. Anomalies were detected with AMP on your system that may lead to NaN losses or zero-mAP results, so AMP will be disabled during training.\n"
          ]
        },
        {
          "name": "stderr",
          "output_type": "stream",
          "text": [
            "\u001b[34m\u001b[1mtrain: \u001b[0mScanning H:\\Repos\\WalkerGuard-EmbeddedSystem\\yolov8\\License_Plate\\yolo\\train\\labels.cache... 390 images, 0 backgrounds, 0 corrupt: 100%|██████████| 390/390 [00:00<?, ?it/s]\n",
            "\u001b[34m\u001b[1mval: \u001b[0mScanning H:\\Repos\\WalkerGuard-EmbeddedSystem\\yolov8\\License_Plate\\yolo\\valid\\labels.cache... 43 images, 0 backgrounds, 0 corrupt: 100%|██████████| 43/43 [00:00<?, ?it/s]\n"
          ]
        },
        {
          "name": "stdout",
          "output_type": "stream",
          "text": [
            "Plotting labels to runs\\detect\\train\\labels.jpg... \n",
            "\u001b[34m\u001b[1moptimizer:\u001b[0m 'optimizer=auto' found, ignoring 'lr0=0.01' and 'momentum=0.937' and determining best 'optimizer', 'lr0' and 'momentum' automatically... \n",
            "\u001b[34m\u001b[1moptimizer:\u001b[0m AdamW(lr=0.002, momentum=0.9) with parameter groups 57 weight(decay=0.0), 64 weight(decay=0.0005), 63 bias(decay=0.0)\n",
            "Image sizes 640 train, 640 val\n",
            "Using 8 dataloader workers\n",
            "Logging results to \u001b[1mruns\\detect\\train\u001b[0m\n",
            "Starting training for 150 epochs...\n",
            "\n",
            "      Epoch    GPU_mem   box_loss   cls_loss   dfl_loss  Instances       Size\n"
          ]
        },
        {
          "name": "stderr",
          "output_type": "stream",
          "text": [
            "      1/150      4.01G      1.504      2.907      1.304         10        640: 100%|██████████| 25/25 [00:05<00:00,  4.92it/s]\n",
            "                 Class     Images  Instances      Box(P          R      mAP50  mAP50-95): 100%|██████████| 2/2 [00:00<00:00,  2.56it/s]"
          ]
        },
        {
          "name": "stdout",
          "output_type": "stream",
          "text": [
            "                   all         43         47    0.00524      0.745       0.66      0.336\n"
          ]
        },
        {
          "name": "stderr",
          "output_type": "stream",
          "text": [
            "\n"
          ]
        },
        {
          "name": "stdout",
          "output_type": "stream",
          "text": [
            "\n",
            "      Epoch    GPU_mem   box_loss   cls_loss   dfl_loss  Instances       Size\n"
          ]
        },
        {
          "name": "stderr",
          "output_type": "stream",
          "text": [
            "      2/150         4G      1.492      1.982      1.271         12        640: 100%|██████████| 25/25 [00:04<00:00,  5.38it/s]\n",
            "                 Class     Images  Instances      Box(P          R      mAP50  mAP50-95): 100%|██████████| 2/2 [00:00<00:00,  6.69it/s]"
          ]
        },
        {
          "name": "stdout",
          "output_type": "stream",
          "text": [
            "                   all         43         47      0.915       0.23      0.547      0.253\n"
          ]
        },
        {
          "name": "stderr",
          "output_type": "stream",
          "text": [
            "\n"
          ]
        },
        {
          "name": "stdout",
          "output_type": "stream",
          "text": [
            "\n",
            "      Epoch    GPU_mem   box_loss   cls_loss   dfl_loss  Instances       Size\n"
          ]
        },
        {
          "name": "stderr",
          "output_type": "stream",
          "text": [
            "      3/150      4.01G      1.484      1.694      1.291         16        640: 100%|██████████| 25/25 [00:04<00:00,  5.59it/s]\n",
            "                 Class     Images  Instances      Box(P          R      mAP50  mAP50-95): 100%|██████████| 2/2 [00:00<00:00,  5.48it/s]"
          ]
        },
        {
          "name": "stdout",
          "output_type": "stream",
          "text": [
            "                   all         43         47      0.136      0.149     0.0994     0.0378\n"
          ]
        },
        {
          "name": "stderr",
          "output_type": "stream",
          "text": [
            "\n"
          ]
        },
        {
          "name": "stdout",
          "output_type": "stream",
          "text": [
            "\n",
            "      Epoch    GPU_mem   box_loss   cls_loss   dfl_loss  Instances       Size\n"
          ]
        },
        {
          "name": "stderr",
          "output_type": "stream",
          "text": [
            "      4/150         4G      1.561      1.729      1.377         11        640: 100%|██████████| 25/25 [00:04<00:00,  5.67it/s]\n",
            "                 Class     Images  Instances      Box(P          R      mAP50  mAP50-95): 100%|██████████| 2/2 [00:00<00:00,  6.04it/s]"
          ]
        },
        {
          "name": "stdout",
          "output_type": "stream",
          "text": [
            "                   all         43         47     0.0916       0.17     0.0519     0.0168\n"
          ]
        },
        {
          "name": "stderr",
          "output_type": "stream",
          "text": [
            "\n"
          ]
        },
        {
          "name": "stdout",
          "output_type": "stream",
          "text": [
            "\n",
            "      Epoch    GPU_mem   box_loss   cls_loss   dfl_loss  Instances       Size\n"
          ]
        },
        {
          "name": "stderr",
          "output_type": "stream",
          "text": [
            "      5/150         4G      1.503      1.609      1.317         17        640: 100%|██████████| 25/25 [00:04<00:00,  5.78it/s]\n",
            "                 Class     Images  Instances      Box(P          R      mAP50  mAP50-95): 100%|██████████| 2/2 [00:00<00:00,  6.29it/s]"
          ]
        },
        {
          "name": "stdout",
          "output_type": "stream",
          "text": [
            "                   all         43         47      0.258      0.298      0.141     0.0726\n"
          ]
        },
        {
          "name": "stderr",
          "output_type": "stream",
          "text": [
            "\n"
          ]
        },
        {
          "name": "stdout",
          "output_type": "stream",
          "text": [
            "\n",
            "      Epoch    GPU_mem   box_loss   cls_loss   dfl_loss  Instances       Size\n"
          ]
        },
        {
          "name": "stderr",
          "output_type": "stream",
          "text": [
            "      6/150      4.01G      1.457       1.48      1.289          8        640: 100%|██████████| 25/25 [00:04<00:00,  5.73it/s]\n",
            "                 Class     Images  Instances      Box(P          R      mAP50  mAP50-95): 100%|██████████| 2/2 [00:00<00:00,  6.64it/s]"
          ]
        },
        {
          "name": "stdout",
          "output_type": "stream",
          "text": [
            "                   all         43         47      0.746      0.447      0.513      0.248\n"
          ]
        },
        {
          "name": "stderr",
          "output_type": "stream",
          "text": [
            "\n"
          ]
        },
        {
          "name": "stdout",
          "output_type": "stream",
          "text": [
            "\n",
            "      Epoch    GPU_mem   box_loss   cls_loss   dfl_loss  Instances       Size\n"
          ]
        },
        {
          "name": "stderr",
          "output_type": "stream",
          "text": [
            "      7/150      4.01G      1.484      1.371      1.284         16        640: 100%|██████████| 25/25 [00:04<00:00,  5.74it/s]\n",
            "                 Class     Images  Instances      Box(P          R      mAP50  mAP50-95): 100%|██████████| 2/2 [00:00<00:00,  6.67it/s]"
          ]
        },
        {
          "name": "stdout",
          "output_type": "stream",
          "text": [
            "                   all         43         47      0.821      0.617      0.658      0.325\n"
          ]
        },
        {
          "name": "stderr",
          "output_type": "stream",
          "text": [
            "\n"
          ]
        },
        {
          "name": "stdout",
          "output_type": "stream",
          "text": [
            "\n",
            "      Epoch    GPU_mem   box_loss   cls_loss   dfl_loss  Instances       Size\n"
          ]
        },
        {
          "name": "stderr",
          "output_type": "stream",
          "text": [
            "      8/150      4.01G      1.567      1.355      1.389         16        640: 100%|██████████| 25/25 [00:04<00:00,  5.75it/s]\n",
            "                 Class     Images  Instances      Box(P          R      mAP50  mAP50-95): 100%|██████████| 2/2 [00:00<00:00,  6.50it/s]"
          ]
        },
        {
          "name": "stdout",
          "output_type": "stream",
          "text": [
            "                   all         43         47      0.735      0.768      0.739      0.342\n"
          ]
        },
        {
          "name": "stderr",
          "output_type": "stream",
          "text": [
            "\n"
          ]
        },
        {
          "name": "stdout",
          "output_type": "stream",
          "text": [
            "\n",
            "      Epoch    GPU_mem   box_loss   cls_loss   dfl_loss  Instances       Size\n"
          ]
        },
        {
          "name": "stderr",
          "output_type": "stream",
          "text": [
            "      9/150         4G      1.497      1.245      1.342         11        640: 100%|██████████| 25/25 [00:04<00:00,  5.74it/s]\n",
            "                 Class     Images  Instances      Box(P          R      mAP50  mAP50-95): 100%|██████████| 2/2 [00:00<00:00,  6.82it/s]"
          ]
        },
        {
          "name": "stdout",
          "output_type": "stream",
          "text": [
            "                   all         43         47      0.862      0.574      0.682      0.379\n"
          ]
        },
        {
          "name": "stderr",
          "output_type": "stream",
          "text": [
            "\n"
          ]
        },
        {
          "name": "stdout",
          "output_type": "stream",
          "text": [
            "\n",
            "      Epoch    GPU_mem   box_loss   cls_loss   dfl_loss  Instances       Size\n"
          ]
        },
        {
          "name": "stderr",
          "output_type": "stream",
          "text": [
            "     10/150      4.01G      1.453      1.176      1.303          8        640: 100%|██████████| 25/25 [00:04<00:00,  5.78it/s]\n",
            "                 Class     Images  Instances      Box(P          R      mAP50  mAP50-95): 100%|██████████| 2/2 [00:00<00:00,  6.48it/s]"
          ]
        },
        {
          "name": "stdout",
          "output_type": "stream",
          "text": [
            "                   all         43         47      0.723      0.787      0.762      0.415\n"
          ]
        },
        {
          "name": "stderr",
          "output_type": "stream",
          "text": [
            "\n"
          ]
        },
        {
          "name": "stdout",
          "output_type": "stream",
          "text": [
            "\n",
            "      Epoch    GPU_mem   box_loss   cls_loss   dfl_loss  Instances       Size\n"
          ]
        },
        {
          "name": "stderr",
          "output_type": "stream",
          "text": [
            "     11/150      4.01G      1.439      1.118      1.308         13        640: 100%|██████████| 25/25 [00:04<00:00,  5.68it/s]\n",
            "                 Class     Images  Instances      Box(P          R      mAP50  mAP50-95): 100%|██████████| 2/2 [00:00<00:00,  6.77it/s]"
          ]
        },
        {
          "name": "stdout",
          "output_type": "stream",
          "text": [
            "                   all         43         47      0.612      0.806       0.66       0.32\n"
          ]
        },
        {
          "name": "stderr",
          "output_type": "stream",
          "text": [
            "\n"
          ]
        },
        {
          "name": "stdout",
          "output_type": "stream",
          "text": [
            "\n",
            "      Epoch    GPU_mem   box_loss   cls_loss   dfl_loss  Instances       Size\n"
          ]
        },
        {
          "name": "stderr",
          "output_type": "stream",
          "text": [
            "     12/150      4.01G      1.421      1.112      1.302          9        640: 100%|██████████| 25/25 [00:04<00:00,  5.68it/s]\n",
            "                 Class     Images  Instances      Box(P          R      mAP50  mAP50-95): 100%|██████████| 2/2 [00:00<00:00,  7.03it/s]"
          ]
        },
        {
          "name": "stdout",
          "output_type": "stream",
          "text": [
            "                   all         43         47      0.723      0.745      0.748      0.369\n"
          ]
        },
        {
          "name": "stderr",
          "output_type": "stream",
          "text": [
            "\n"
          ]
        },
        {
          "name": "stdout",
          "output_type": "stream",
          "text": [
            "\n",
            "      Epoch    GPU_mem   box_loss   cls_loss   dfl_loss  Instances       Size\n"
          ]
        },
        {
          "name": "stderr",
          "output_type": "stream",
          "text": [
            "     13/150         4G      1.421      1.121      1.265         11        640: 100%|██████████| 25/25 [00:04<00:00,  5.89it/s]\n",
            "                 Class     Images  Instances      Box(P          R      mAP50  mAP50-95): 100%|██████████| 2/2 [00:00<00:00,  6.78it/s]"
          ]
        },
        {
          "name": "stdout",
          "output_type": "stream",
          "text": [
            "                   all         43         47      0.872      0.723      0.773      0.386\n"
          ]
        },
        {
          "name": "stderr",
          "output_type": "stream",
          "text": [
            "\n"
          ]
        },
        {
          "name": "stdout",
          "output_type": "stream",
          "text": [
            "\n",
            "      Epoch    GPU_mem   box_loss   cls_loss   dfl_loss  Instances       Size\n"
          ]
        },
        {
          "name": "stderr",
          "output_type": "stream",
          "text": [
            "     14/150      4.01G      1.372      1.059      1.272         13        640: 100%|██████████| 25/25 [00:04<00:00,  5.85it/s]\n",
            "                 Class     Images  Instances      Box(P          R      mAP50  mAP50-95): 100%|██████████| 2/2 [00:00<00:00,  6.05it/s]"
          ]
        },
        {
          "name": "stdout",
          "output_type": "stream",
          "text": [
            "                   all         43         47      0.871      0.809      0.842      0.366\n"
          ]
        },
        {
          "name": "stderr",
          "output_type": "stream",
          "text": [
            "\n"
          ]
        },
        {
          "name": "stdout",
          "output_type": "stream",
          "text": [
            "\n",
            "      Epoch    GPU_mem   box_loss   cls_loss   dfl_loss  Instances       Size\n"
          ]
        },
        {
          "name": "stderr",
          "output_type": "stream",
          "text": [
            "     15/150      4.01G      1.398      1.008      1.265         11        640: 100%|██████████| 25/25 [00:04<00:00,  5.66it/s]\n",
            "                 Class     Images  Instances      Box(P          R      mAP50  mAP50-95): 100%|██████████| 2/2 [00:00<00:00,  3.87it/s]"
          ]
        },
        {
          "name": "stdout",
          "output_type": "stream",
          "text": [
            "                   all         43         47      0.848      0.787      0.843       0.45\n"
          ]
        },
        {
          "name": "stderr",
          "output_type": "stream",
          "text": [
            "\n"
          ]
        },
        {
          "name": "stdout",
          "output_type": "stream",
          "text": [
            "\n",
            "      Epoch    GPU_mem   box_loss   cls_loss   dfl_loss  Instances       Size\n"
          ]
        },
        {
          "name": "stderr",
          "output_type": "stream",
          "text": [
            "     16/150      4.01G      1.373      1.013      1.259         11        640: 100%|██████████| 25/25 [00:04<00:00,  5.68it/s]\n",
            "                 Class     Images  Instances      Box(P          R      mAP50  mAP50-95): 100%|██████████| 2/2 [00:00<00:00,  6.12it/s]"
          ]
        },
        {
          "name": "stdout",
          "output_type": "stream",
          "text": [
            "                   all         43         47      0.879      0.809      0.839      0.426\n"
          ]
        },
        {
          "name": "stderr",
          "output_type": "stream",
          "text": [
            "\n"
          ]
        },
        {
          "name": "stdout",
          "output_type": "stream",
          "text": [
            "\n",
            "      Epoch    GPU_mem   box_loss   cls_loss   dfl_loss  Instances       Size\n"
          ]
        },
        {
          "name": "stderr",
          "output_type": "stream",
          "text": [
            "     17/150         4G      1.358     0.9708       1.24         13        640: 100%|██████████| 25/25 [00:04<00:00,  5.85it/s]\n",
            "                 Class     Images  Instances      Box(P          R      mAP50  mAP50-95): 100%|██████████| 2/2 [00:00<00:00,  6.76it/s]"
          ]
        },
        {
          "name": "stdout",
          "output_type": "stream",
          "text": [
            "                   all         43         47        0.9      0.763      0.849      0.458\n"
          ]
        },
        {
          "name": "stderr",
          "output_type": "stream",
          "text": [
            "\n"
          ]
        },
        {
          "name": "stdout",
          "output_type": "stream",
          "text": [
            "\n",
            "      Epoch    GPU_mem   box_loss   cls_loss   dfl_loss  Instances       Size\n"
          ]
        },
        {
          "name": "stderr",
          "output_type": "stream",
          "text": [
            "     18/150      4.01G      1.384     0.9264      1.247          8        640: 100%|██████████| 25/25 [00:04<00:00,  5.71it/s]\n",
            "                 Class     Images  Instances      Box(P          R      mAP50  mAP50-95): 100%|██████████| 2/2 [00:00<00:00,  6.43it/s]"
          ]
        },
        {
          "name": "stdout",
          "output_type": "stream",
          "text": [
            "                   all         43         47      0.913      0.809      0.893      0.383\n"
          ]
        },
        {
          "name": "stderr",
          "output_type": "stream",
          "text": [
            "\n"
          ]
        },
        {
          "name": "stdout",
          "output_type": "stream",
          "text": [
            "\n",
            "      Epoch    GPU_mem   box_loss   cls_loss   dfl_loss  Instances       Size\n"
          ]
        },
        {
          "name": "stderr",
          "output_type": "stream",
          "text": [
            "     19/150      4.01G      1.355     0.9183      1.228         20        640: 100%|██████████| 25/25 [00:04<00:00,  5.05it/s]\n",
            "                 Class     Images  Instances      Box(P          R      mAP50  mAP50-95): 100%|██████████| 2/2 [00:00<00:00,  6.18it/s]"
          ]
        },
        {
          "name": "stdout",
          "output_type": "stream",
          "text": [
            "                   all         43         47        0.9      0.765      0.828      0.423\n"
          ]
        },
        {
          "name": "stderr",
          "output_type": "stream",
          "text": [
            "\n"
          ]
        },
        {
          "name": "stdout",
          "output_type": "stream",
          "text": [
            "\n",
            "      Epoch    GPU_mem   box_loss   cls_loss   dfl_loss  Instances       Size\n"
          ]
        },
        {
          "name": "stderr",
          "output_type": "stream",
          "text": [
            "     20/150      4.01G      1.379     0.9219       1.25         11        640: 100%|██████████| 25/25 [00:04<00:00,  5.01it/s]\n",
            "                 Class     Images  Instances      Box(P          R      mAP50  mAP50-95): 100%|██████████| 2/2 [00:00<00:00,  5.38it/s]"
          ]
        },
        {
          "name": "stdout",
          "output_type": "stream",
          "text": [
            "                   all         43         47      0.769       0.78      0.805      0.425\n"
          ]
        },
        {
          "name": "stderr",
          "output_type": "stream",
          "text": [
            "\n"
          ]
        },
        {
          "name": "stdout",
          "output_type": "stream",
          "text": [
            "\n",
            "      Epoch    GPU_mem   box_loss   cls_loss   dfl_loss  Instances       Size\n"
          ]
        },
        {
          "name": "stderr",
          "output_type": "stream",
          "text": [
            "     21/150         4G      1.326     0.9066       1.21         12        640: 100%|██████████| 25/25 [00:04<00:00,  5.17it/s]\n",
            "                 Class     Images  Instances      Box(P          R      mAP50  mAP50-95): 100%|██████████| 2/2 [00:00<00:00,  4.57it/s]"
          ]
        },
        {
          "name": "stdout",
          "output_type": "stream",
          "text": [
            "                   all         43         47      0.779      0.766      0.746      0.424\n"
          ]
        },
        {
          "name": "stderr",
          "output_type": "stream",
          "text": [
            "\n"
          ]
        },
        {
          "name": "stdout",
          "output_type": "stream",
          "text": [
            "\n",
            "      Epoch    GPU_mem   box_loss   cls_loss   dfl_loss  Instances       Size\n"
          ]
        },
        {
          "name": "stderr",
          "output_type": "stream",
          "text": [
            "     22/150      4.01G      1.327     0.8564      1.207         12        640: 100%|██████████| 25/25 [00:04<00:00,  5.62it/s]\n",
            "                 Class     Images  Instances      Box(P          R      mAP50  mAP50-95): 100%|██████████| 2/2 [00:00<00:00,  6.47it/s]"
          ]
        },
        {
          "name": "stdout",
          "output_type": "stream",
          "text": [
            "                   all         43         47      0.897      0.745      0.816      0.421\n"
          ]
        },
        {
          "name": "stderr",
          "output_type": "stream",
          "text": [
            "\n"
          ]
        },
        {
          "name": "stdout",
          "output_type": "stream",
          "text": [
            "\n",
            "      Epoch    GPU_mem   box_loss   cls_loss   dfl_loss  Instances       Size\n"
          ]
        },
        {
          "name": "stderr",
          "output_type": "stream",
          "text": [
            "     23/150      4.01G       1.36     0.8977      1.209          9        640: 100%|██████████| 25/25 [00:04<00:00,  5.12it/s]\n",
            "                 Class     Images  Instances      Box(P          R      mAP50  mAP50-95): 100%|██████████| 2/2 [00:00<00:00,  4.10it/s]"
          ]
        },
        {
          "name": "stdout",
          "output_type": "stream",
          "text": [
            "                   all         43         47       0.82      0.787      0.852      0.404\n"
          ]
        },
        {
          "name": "stderr",
          "output_type": "stream",
          "text": [
            "\n"
          ]
        },
        {
          "name": "stdout",
          "output_type": "stream",
          "text": [
            "\n",
            "      Epoch    GPU_mem   box_loss   cls_loss   dfl_loss  Instances       Size\n"
          ]
        },
        {
          "name": "stderr",
          "output_type": "stream",
          "text": [
            "     24/150      4.01G       1.32     0.8653      1.227         24        640: 100%|██████████| 25/25 [00:04<00:00,  5.24it/s]\n",
            "                 Class     Images  Instances      Box(P          R      mAP50  mAP50-95): 100%|██████████| 2/2 [00:00<00:00,  6.01it/s]"
          ]
        },
        {
          "name": "stdout",
          "output_type": "stream",
          "text": [
            "                   all         43         47      0.834      0.894      0.876      0.446\n"
          ]
        },
        {
          "name": "stderr",
          "output_type": "stream",
          "text": [
            "\n"
          ]
        },
        {
          "name": "stdout",
          "output_type": "stream",
          "text": [
            "\n",
            "      Epoch    GPU_mem   box_loss   cls_loss   dfl_loss  Instances       Size\n"
          ]
        },
        {
          "name": "stderr",
          "output_type": "stream",
          "text": [
            "     25/150         4G      1.311     0.8596      1.225         14        640: 100%|██████████| 25/25 [00:04<00:00,  5.33it/s]\n",
            "                 Class     Images  Instances      Box(P          R      mAP50  mAP50-95): 100%|██████████| 2/2 [00:00<00:00,  6.41it/s]"
          ]
        },
        {
          "name": "stdout",
          "output_type": "stream",
          "text": [
            "                   all         43         47      0.846      0.787      0.881      0.485\n"
          ]
        },
        {
          "name": "stderr",
          "output_type": "stream",
          "text": [
            "\n"
          ]
        },
        {
          "name": "stdout",
          "output_type": "stream",
          "text": [
            "\n",
            "      Epoch    GPU_mem   box_loss   cls_loss   dfl_loss  Instances       Size\n"
          ]
        },
        {
          "name": "stderr",
          "output_type": "stream",
          "text": [
            "     26/150      4.01G      1.312     0.8808      1.238         14        640: 100%|██████████| 25/25 [00:04<00:00,  5.48it/s]\n",
            "                 Class     Images  Instances      Box(P          R      mAP50  mAP50-95): 100%|██████████| 2/2 [00:00<00:00,  6.03it/s]"
          ]
        },
        {
          "name": "stdout",
          "output_type": "stream",
          "text": [
            "                   all         43         47      0.768      0.846      0.813      0.457\n"
          ]
        },
        {
          "name": "stderr",
          "output_type": "stream",
          "text": [
            "\n"
          ]
        },
        {
          "name": "stdout",
          "output_type": "stream",
          "text": [
            "\n",
            "      Epoch    GPU_mem   box_loss   cls_loss   dfl_loss  Instances       Size\n"
          ]
        },
        {
          "name": "stderr",
          "output_type": "stream",
          "text": [
            "     27/150      4.01G      1.296     0.8462      1.222          9        640: 100%|██████████| 25/25 [00:04<00:00,  5.45it/s]\n",
            "                 Class     Images  Instances      Box(P          R      mAP50  mAP50-95): 100%|██████████| 2/2 [00:00<00:00,  5.11it/s]"
          ]
        },
        {
          "name": "stdout",
          "output_type": "stream",
          "text": [
            "                   all         43         47      0.897      0.596      0.696       0.33\n"
          ]
        },
        {
          "name": "stderr",
          "output_type": "stream",
          "text": [
            "\n"
          ]
        },
        {
          "name": "stdout",
          "output_type": "stream",
          "text": [
            "\n",
            "      Epoch    GPU_mem   box_loss   cls_loss   dfl_loss  Instances       Size\n"
          ]
        },
        {
          "name": "stderr",
          "output_type": "stream",
          "text": [
            "     28/150      4.01G      1.315     0.8347      1.187         11        640: 100%|██████████| 25/25 [00:04<00:00,  5.02it/s]\n",
            "                 Class     Images  Instances      Box(P          R      mAP50  mAP50-95): 100%|██████████| 2/2 [00:00<00:00,  6.49it/s]"
          ]
        },
        {
          "name": "stdout",
          "output_type": "stream",
          "text": [
            "                   all         43         47      0.871      0.745      0.789      0.426\n"
          ]
        },
        {
          "name": "stderr",
          "output_type": "stream",
          "text": [
            "\n"
          ]
        },
        {
          "name": "stdout",
          "output_type": "stream",
          "text": [
            "\n",
            "      Epoch    GPU_mem   box_loss   cls_loss   dfl_loss  Instances       Size\n"
          ]
        },
        {
          "name": "stderr",
          "output_type": "stream",
          "text": [
            "     29/150         4G      1.279     0.8247      1.191         17        640: 100%|██████████| 25/25 [00:05<00:00,  4.77it/s]\n",
            "                 Class     Images  Instances      Box(P          R      mAP50  mAP50-95): 100%|██████████| 2/2 [00:00<00:00,  5.47it/s]"
          ]
        },
        {
          "name": "stdout",
          "output_type": "stream",
          "text": [
            "                   all         43         47      0.851      0.809      0.861      0.446\n"
          ]
        },
        {
          "name": "stderr",
          "output_type": "stream",
          "text": [
            "\n"
          ]
        },
        {
          "name": "stdout",
          "output_type": "stream",
          "text": [
            "\n",
            "      Epoch    GPU_mem   box_loss   cls_loss   dfl_loss  Instances       Size\n"
          ]
        },
        {
          "name": "stderr",
          "output_type": "stream",
          "text": [
            "     30/150      4.01G      1.282     0.8044      1.191         10        640: 100%|██████████| 25/25 [00:04<00:00,  5.51it/s]\n",
            "                 Class     Images  Instances      Box(P          R      mAP50  mAP50-95): 100%|██████████| 2/2 [00:00<00:00,  6.51it/s]"
          ]
        },
        {
          "name": "stdout",
          "output_type": "stream",
          "text": [
            "                   all         43         47      0.944       0.72      0.822      0.459\n"
          ]
        },
        {
          "name": "stderr",
          "output_type": "stream",
          "text": [
            "\n"
          ]
        },
        {
          "name": "stdout",
          "output_type": "stream",
          "text": [
            "\n",
            "      Epoch    GPU_mem   box_loss   cls_loss   dfl_loss  Instances       Size\n"
          ]
        },
        {
          "name": "stderr",
          "output_type": "stream",
          "text": [
            "     31/150      4.01G      1.297     0.8019      1.196         12        640: 100%|██████████| 25/25 [00:04<00:00,  5.06it/s]\n",
            "                 Class     Images  Instances      Box(P          R      mAP50  mAP50-95): 100%|██████████| 2/2 [00:00<00:00,  6.13it/s]"
          ]
        },
        {
          "name": "stdout",
          "output_type": "stream",
          "text": [
            "                   all         43         47      0.922      0.894      0.928      0.451\n"
          ]
        },
        {
          "name": "stderr",
          "output_type": "stream",
          "text": [
            "\n"
          ]
        },
        {
          "name": "stdout",
          "output_type": "stream",
          "text": [
            "\n",
            "      Epoch    GPU_mem   box_loss   cls_loss   dfl_loss  Instances       Size\n"
          ]
        },
        {
          "name": "stderr",
          "output_type": "stream",
          "text": [
            "     32/150      4.01G      1.211     0.7573      1.162         14        640: 100%|██████████| 25/25 [00:04<00:00,  5.45it/s]\n",
            "                 Class     Images  Instances      Box(P          R      mAP50  mAP50-95): 100%|██████████| 2/2 [00:00<00:00,  6.04it/s]"
          ]
        },
        {
          "name": "stdout",
          "output_type": "stream",
          "text": [
            "                   all         43         47      0.872      0.787      0.894      0.422\n"
          ]
        },
        {
          "name": "stderr",
          "output_type": "stream",
          "text": [
            "\n"
          ]
        },
        {
          "name": "stdout",
          "output_type": "stream",
          "text": [
            "\n",
            "      Epoch    GPU_mem   box_loss   cls_loss   dfl_loss  Instances       Size\n"
          ]
        },
        {
          "name": "stderr",
          "output_type": "stream",
          "text": [
            "     33/150         4G      1.231     0.7647      1.171          9        640: 100%|██████████| 25/25 [00:04<00:00,  5.42it/s]\n",
            "                 Class     Images  Instances      Box(P          R      mAP50  mAP50-95): 100%|██████████| 2/2 [00:00<00:00,  6.81it/s]"
          ]
        },
        {
          "name": "stdout",
          "output_type": "stream",
          "text": [
            "                   all         43         47      0.932      0.787      0.875      0.418\n"
          ]
        },
        {
          "name": "stderr",
          "output_type": "stream",
          "text": [
            "\n"
          ]
        },
        {
          "name": "stdout",
          "output_type": "stream",
          "text": [
            "\n",
            "      Epoch    GPU_mem   box_loss   cls_loss   dfl_loss  Instances       Size\n"
          ]
        },
        {
          "name": "stderr",
          "output_type": "stream",
          "text": [
            "     34/150      4.01G      1.218     0.7463      1.164         13        640: 100%|██████████| 25/25 [00:04<00:00,  5.49it/s]\n",
            "                 Class     Images  Instances      Box(P          R      mAP50  mAP50-95): 100%|██████████| 2/2 [00:00<00:00,  6.61it/s]"
          ]
        },
        {
          "name": "stdout",
          "output_type": "stream",
          "text": [
            "                   all         43         47      0.886      0.826      0.863       0.45\n"
          ]
        },
        {
          "name": "stderr",
          "output_type": "stream",
          "text": [
            "\n"
          ]
        },
        {
          "name": "stdout",
          "output_type": "stream",
          "text": [
            "\n",
            "      Epoch    GPU_mem   box_loss   cls_loss   dfl_loss  Instances       Size\n"
          ]
        },
        {
          "name": "stderr",
          "output_type": "stream",
          "text": [
            "     35/150      4.01G       1.19     0.7296      1.163         12        640: 100%|██████████| 25/25 [00:04<00:00,  5.42it/s]\n",
            "                 Class     Images  Instances      Box(P          R      mAP50  mAP50-95): 100%|██████████| 2/2 [00:00<00:00,  6.70it/s]"
          ]
        },
        {
          "name": "stdout",
          "output_type": "stream",
          "text": [
            "                   all         43         47      0.917      0.706      0.824      0.459\n"
          ]
        },
        {
          "name": "stderr",
          "output_type": "stream",
          "text": [
            "\n"
          ]
        },
        {
          "name": "stdout",
          "output_type": "stream",
          "text": [
            "\n",
            "      Epoch    GPU_mem   box_loss   cls_loss   dfl_loss  Instances       Size\n"
          ]
        },
        {
          "name": "stderr",
          "output_type": "stream",
          "text": [
            "     36/150      4.01G      1.251     0.7744       1.16         15        640: 100%|██████████| 25/25 [00:04<00:00,  5.49it/s]\n",
            "                 Class     Images  Instances      Box(P          R      mAP50  mAP50-95): 100%|██████████| 2/2 [00:00<00:00,  6.56it/s]"
          ]
        },
        {
          "name": "stdout",
          "output_type": "stream",
          "text": [
            "                   all         43         47      0.845       0.83      0.857      0.417\n"
          ]
        },
        {
          "name": "stderr",
          "output_type": "stream",
          "text": [
            "\n"
          ]
        },
        {
          "name": "stdout",
          "output_type": "stream",
          "text": [
            "\n",
            "      Epoch    GPU_mem   box_loss   cls_loss   dfl_loss  Instances       Size\n"
          ]
        },
        {
          "name": "stderr",
          "output_type": "stream",
          "text": [
            "     37/150         4G      1.271     0.7436      1.184         12        640: 100%|██████████| 25/25 [00:04<00:00,  5.47it/s]\n",
            "                 Class     Images  Instances      Box(P          R      mAP50  mAP50-95): 100%|██████████| 2/2 [00:00<00:00,  6.60it/s]"
          ]
        },
        {
          "name": "stdout",
          "output_type": "stream",
          "text": [
            "                   all         43         47      0.808      0.807      0.877      0.445\n"
          ]
        },
        {
          "name": "stderr",
          "output_type": "stream",
          "text": [
            "\n"
          ]
        },
        {
          "name": "stdout",
          "output_type": "stream",
          "text": [
            "\n",
            "      Epoch    GPU_mem   box_loss   cls_loss   dfl_loss  Instances       Size\n"
          ]
        },
        {
          "name": "stderr",
          "output_type": "stream",
          "text": [
            "     38/150      4.01G      1.201     0.7469      1.145         18        640: 100%|██████████| 25/25 [00:04<00:00,  5.52it/s]\n",
            "                 Class     Images  Instances      Box(P          R      mAP50  mAP50-95): 100%|██████████| 2/2 [00:00<00:00,  6.66it/s]"
          ]
        },
        {
          "name": "stdout",
          "output_type": "stream",
          "text": [
            "                   all         43         47      0.912      0.894      0.903      0.489\n"
          ]
        },
        {
          "name": "stderr",
          "output_type": "stream",
          "text": [
            "\n"
          ]
        },
        {
          "name": "stdout",
          "output_type": "stream",
          "text": [
            "\n",
            "      Epoch    GPU_mem   box_loss   cls_loss   dfl_loss  Instances       Size\n"
          ]
        },
        {
          "name": "stderr",
          "output_type": "stream",
          "text": [
            "     39/150      4.01G       1.17     0.7009      1.135         13        640: 100%|██████████| 25/25 [00:04<00:00,  5.51it/s]\n",
            "                 Class     Images  Instances      Box(P          R      mAP50  mAP50-95): 100%|██████████| 2/2 [00:00<00:00,  6.61it/s]"
          ]
        },
        {
          "name": "stdout",
          "output_type": "stream",
          "text": [
            "                   all         43         47      0.975      0.821      0.907      0.511\n"
          ]
        },
        {
          "name": "stderr",
          "output_type": "stream",
          "text": [
            "\n"
          ]
        },
        {
          "name": "stdout",
          "output_type": "stream",
          "text": [
            "\n",
            "      Epoch    GPU_mem   box_loss   cls_loss   dfl_loss  Instances       Size\n"
          ]
        },
        {
          "name": "stderr",
          "output_type": "stream",
          "text": [
            "     40/150      4.01G      1.179     0.7308       1.14         18        640: 100%|██████████| 25/25 [00:04<00:00,  5.39it/s]\n",
            "                 Class     Images  Instances      Box(P          R      mAP50  mAP50-95): 100%|██████████| 2/2 [00:00<00:00,  6.46it/s]"
          ]
        },
        {
          "name": "stdout",
          "output_type": "stream",
          "text": [
            "                   all         43         47      0.839      0.766      0.865      0.435\n"
          ]
        },
        {
          "name": "stderr",
          "output_type": "stream",
          "text": [
            "\n"
          ]
        },
        {
          "name": "stdout",
          "output_type": "stream",
          "text": [
            "\n",
            "      Epoch    GPU_mem   box_loss   cls_loss   dfl_loss  Instances       Size\n"
          ]
        },
        {
          "name": "stderr",
          "output_type": "stream",
          "text": [
            "     41/150         4G      1.224     0.7505      1.141         17        640: 100%|██████████| 25/25 [00:04<00:00,  5.45it/s]\n",
            "                 Class     Images  Instances      Box(P          R      mAP50  mAP50-95): 100%|██████████| 2/2 [00:00<00:00,  6.94it/s]"
          ]
        },
        {
          "name": "stdout",
          "output_type": "stream",
          "text": [
            "                   all         43         47      0.872      0.867      0.924      0.499\n"
          ]
        },
        {
          "name": "stderr",
          "output_type": "stream",
          "text": [
            "\n"
          ]
        },
        {
          "name": "stdout",
          "output_type": "stream",
          "text": [
            "\n",
            "      Epoch    GPU_mem   box_loss   cls_loss   dfl_loss  Instances       Size\n"
          ]
        },
        {
          "name": "stderr",
          "output_type": "stream",
          "text": [
            "     42/150      4.01G      1.164     0.7023      1.131         15        640: 100%|██████████| 25/25 [00:04<00:00,  5.46it/s]\n",
            "                 Class     Images  Instances      Box(P          R      mAP50  mAP50-95): 100%|██████████| 2/2 [00:00<00:00,  6.27it/s]"
          ]
        },
        {
          "name": "stdout",
          "output_type": "stream",
          "text": [
            "                   all         43         47      0.873       0.88      0.915      0.469\n"
          ]
        },
        {
          "name": "stderr",
          "output_type": "stream",
          "text": [
            "\n"
          ]
        },
        {
          "name": "stdout",
          "output_type": "stream",
          "text": [
            "\n",
            "      Epoch    GPU_mem   box_loss   cls_loss   dfl_loss  Instances       Size\n"
          ]
        },
        {
          "name": "stderr",
          "output_type": "stream",
          "text": [
            "     43/150      4.01G      1.197      0.705      1.114         11        640: 100%|██████████| 25/25 [00:04<00:00,  5.39it/s]\n",
            "                 Class     Images  Instances      Box(P          R      mAP50  mAP50-95): 100%|██████████| 2/2 [00:00<00:00,  6.77it/s]"
          ]
        },
        {
          "name": "stdout",
          "output_type": "stream",
          "text": [
            "                   all         43         47      0.887      0.936      0.948      0.448\n"
          ]
        },
        {
          "name": "stderr",
          "output_type": "stream",
          "text": [
            "\n"
          ]
        },
        {
          "name": "stdout",
          "output_type": "stream",
          "text": [
            "\n",
            "      Epoch    GPU_mem   box_loss   cls_loss   dfl_loss  Instances       Size\n"
          ]
        },
        {
          "name": "stderr",
          "output_type": "stream",
          "text": [
            "     44/150      4.01G      1.172     0.6881      1.138         17        640: 100%|██████████| 25/25 [00:05<00:00,  4.89it/s]\n",
            "                 Class     Images  Instances      Box(P          R      mAP50  mAP50-95): 100%|██████████| 2/2 [00:00<00:00,  6.36it/s]"
          ]
        },
        {
          "name": "stdout",
          "output_type": "stream",
          "text": [
            "                   all         43         47      0.922      0.752      0.872      0.468\n"
          ]
        },
        {
          "name": "stderr",
          "output_type": "stream",
          "text": [
            "\n"
          ]
        },
        {
          "name": "stdout",
          "output_type": "stream",
          "text": [
            "\n",
            "      Epoch    GPU_mem   box_loss   cls_loss   dfl_loss  Instances       Size\n"
          ]
        },
        {
          "name": "stderr",
          "output_type": "stream",
          "text": [
            "     45/150         4G      1.178     0.7064      1.151          8        640: 100%|██████████| 25/25 [00:04<00:00,  5.51it/s]\n",
            "                 Class     Images  Instances      Box(P          R      mAP50  mAP50-95): 100%|██████████| 2/2 [00:00<00:00,  6.32it/s]"
          ]
        },
        {
          "name": "stdout",
          "output_type": "stream",
          "text": [
            "                   all         43         47      0.856      0.851      0.912      0.473\n"
          ]
        },
        {
          "name": "stderr",
          "output_type": "stream",
          "text": [
            "\n"
          ]
        },
        {
          "name": "stdout",
          "output_type": "stream",
          "text": [
            "\n",
            "      Epoch    GPU_mem   box_loss   cls_loss   dfl_loss  Instances       Size\n"
          ]
        },
        {
          "name": "stderr",
          "output_type": "stream",
          "text": [
            "     46/150      4.01G      1.174      0.711      1.129          9        640: 100%|██████████| 25/25 [00:04<00:00,  5.07it/s]\n",
            "                 Class     Images  Instances      Box(P          R      mAP50  mAP50-95): 100%|██████████| 2/2 [00:00<00:00,  5.35it/s]"
          ]
        },
        {
          "name": "stdout",
          "output_type": "stream",
          "text": [
            "                   all         43         47      0.896      0.809      0.893      0.476\n"
          ]
        },
        {
          "name": "stderr",
          "output_type": "stream",
          "text": [
            "\n"
          ]
        },
        {
          "name": "stdout",
          "output_type": "stream",
          "text": [
            "\n",
            "      Epoch    GPU_mem   box_loss   cls_loss   dfl_loss  Instances       Size\n"
          ]
        },
        {
          "name": "stderr",
          "output_type": "stream",
          "text": [
            "     47/150      4.01G      1.172     0.7332      1.136         15        640: 100%|██████████| 25/25 [00:04<00:00,  5.40it/s]\n",
            "                 Class     Images  Instances      Box(P          R      mAP50  mAP50-95): 100%|██████████| 2/2 [00:00<00:00,  6.33it/s]"
          ]
        },
        {
          "name": "stdout",
          "output_type": "stream",
          "text": [
            "                   all         43         47      0.904      0.787      0.859      0.464\n"
          ]
        },
        {
          "name": "stderr",
          "output_type": "stream",
          "text": [
            "\n"
          ]
        },
        {
          "name": "stdout",
          "output_type": "stream",
          "text": [
            "\n",
            "      Epoch    GPU_mem   box_loss   cls_loss   dfl_loss  Instances       Size\n"
          ]
        },
        {
          "name": "stderr",
          "output_type": "stream",
          "text": [
            "     48/150      4.01G      1.194     0.7277      1.171         11        640: 100%|██████████| 25/25 [00:04<00:00,  5.41it/s]\n",
            "                 Class     Images  Instances      Box(P          R      mAP50  mAP50-95): 100%|██████████| 2/2 [00:00<00:00,  6.60it/s]"
          ]
        },
        {
          "name": "stdout",
          "output_type": "stream",
          "text": [
            "                   all         43         47      0.884       0.83      0.893      0.463\n"
          ]
        },
        {
          "name": "stderr",
          "output_type": "stream",
          "text": [
            "\n"
          ]
        },
        {
          "name": "stdout",
          "output_type": "stream",
          "text": [
            "\n",
            "      Epoch    GPU_mem   box_loss   cls_loss   dfl_loss  Instances       Size\n"
          ]
        },
        {
          "name": "stderr",
          "output_type": "stream",
          "text": [
            "     49/150         4G      1.211     0.7057       1.15         14        640: 100%|██████████| 25/25 [00:04<00:00,  5.44it/s]\n",
            "                 Class     Images  Instances      Box(P          R      mAP50  mAP50-95): 100%|██████████| 2/2 [00:00<00:00,  6.82it/s]"
          ]
        },
        {
          "name": "stdout",
          "output_type": "stream",
          "text": [
            "                   all         43         47      0.843      0.809      0.871       0.44\n"
          ]
        },
        {
          "name": "stderr",
          "output_type": "stream",
          "text": [
            "\n"
          ]
        },
        {
          "name": "stdout",
          "output_type": "stream",
          "text": [
            "\n",
            "      Epoch    GPU_mem   box_loss   cls_loss   dfl_loss  Instances       Size\n"
          ]
        },
        {
          "name": "stderr",
          "output_type": "stream",
          "text": [
            "     50/150      4.01G      1.166     0.6974      1.116         14        640: 100%|██████████| 25/25 [00:04<00:00,  5.16it/s]\n",
            "                 Class     Images  Instances      Box(P          R      mAP50  mAP50-95): 100%|██████████| 2/2 [00:00<00:00,  5.71it/s]"
          ]
        },
        {
          "name": "stdout",
          "output_type": "stream",
          "text": [
            "                   all         43         47        0.9       0.83      0.877      0.446\n"
          ]
        },
        {
          "name": "stderr",
          "output_type": "stream",
          "text": [
            "\n"
          ]
        },
        {
          "name": "stdout",
          "output_type": "stream",
          "text": [
            "\n",
            "      Epoch    GPU_mem   box_loss   cls_loss   dfl_loss  Instances       Size\n"
          ]
        },
        {
          "name": "stderr",
          "output_type": "stream",
          "text": [
            "     51/150      4.01G      1.179     0.7109      1.141         12        640: 100%|██████████| 25/25 [00:04<00:00,  5.59it/s]\n",
            "                 Class     Images  Instances      Box(P          R      mAP50  mAP50-95): 100%|██████████| 2/2 [00:00<00:00,  5.80it/s]"
          ]
        },
        {
          "name": "stdout",
          "output_type": "stream",
          "text": [
            "                   all         43         47       0.95      0.803      0.864      0.422\n"
          ]
        },
        {
          "name": "stderr",
          "output_type": "stream",
          "text": [
            "\n"
          ]
        },
        {
          "name": "stdout",
          "output_type": "stream",
          "text": [
            "\n",
            "      Epoch    GPU_mem   box_loss   cls_loss   dfl_loss  Instances       Size\n"
          ]
        },
        {
          "name": "stderr",
          "output_type": "stream",
          "text": [
            "     52/150      4.01G      1.165     0.7319      1.108          9        640: 100%|██████████| 25/25 [00:04<00:00,  5.59it/s]\n",
            "                 Class     Images  Instances      Box(P          R      mAP50  mAP50-95): 100%|██████████| 2/2 [00:00<00:00,  6.39it/s]"
          ]
        },
        {
          "name": "stdout",
          "output_type": "stream",
          "text": [
            "                   all         43         47      0.792       0.83      0.819      0.405\n"
          ]
        },
        {
          "name": "stderr",
          "output_type": "stream",
          "text": [
            "\n"
          ]
        },
        {
          "name": "stdout",
          "output_type": "stream",
          "text": [
            "\n",
            "      Epoch    GPU_mem   box_loss   cls_loss   dfl_loss  Instances       Size\n"
          ]
        },
        {
          "name": "stderr",
          "output_type": "stream",
          "text": [
            "     53/150         4G      1.163     0.6859       1.11         12        640: 100%|██████████| 25/25 [00:04<00:00,  5.22it/s]\n",
            "                 Class     Images  Instances      Box(P          R      mAP50  mAP50-95): 100%|██████████| 2/2 [00:00<00:00,  6.01it/s]"
          ]
        },
        {
          "name": "stdout",
          "output_type": "stream",
          "text": [
            "                   all         43         47      0.952      0.842      0.893      0.467\n"
          ]
        },
        {
          "name": "stderr",
          "output_type": "stream",
          "text": [
            "\n"
          ]
        },
        {
          "name": "stdout",
          "output_type": "stream",
          "text": [
            "\n",
            "      Epoch    GPU_mem   box_loss   cls_loss   dfl_loss  Instances       Size\n"
          ]
        },
        {
          "name": "stderr",
          "output_type": "stream",
          "text": [
            "     54/150      4.01G      1.104     0.6543       1.12         10        640: 100%|██████████| 25/25 [00:04<00:00,  5.43it/s]\n",
            "                 Class     Images  Instances      Box(P          R      mAP50  mAP50-95): 100%|██████████| 2/2 [00:00<00:00,  5.09it/s]"
          ]
        },
        {
          "name": "stdout",
          "output_type": "stream",
          "text": [
            "                   all         43         47      0.883      0.872      0.891       0.46\n"
          ]
        },
        {
          "name": "stderr",
          "output_type": "stream",
          "text": [
            "\n"
          ]
        },
        {
          "name": "stdout",
          "output_type": "stream",
          "text": [
            "\n",
            "      Epoch    GPU_mem   box_loss   cls_loss   dfl_loss  Instances       Size\n"
          ]
        },
        {
          "name": "stderr",
          "output_type": "stream",
          "text": [
            "     55/150      4.01G      1.131     0.6656      1.123         13        640: 100%|██████████| 25/25 [00:04<00:00,  5.57it/s]\n",
            "                 Class     Images  Instances      Box(P          R      mAP50  mAP50-95): 100%|██████████| 2/2 [00:00<00:00,  6.80it/s]"
          ]
        },
        {
          "name": "stdout",
          "output_type": "stream",
          "text": [
            "                   all         43         47      0.913      0.894      0.931      0.468\n"
          ]
        },
        {
          "name": "stderr",
          "output_type": "stream",
          "text": [
            "\n"
          ]
        },
        {
          "name": "stdout",
          "output_type": "stream",
          "text": [
            "\n",
            "      Epoch    GPU_mem   box_loss   cls_loss   dfl_loss  Instances       Size\n"
          ]
        },
        {
          "name": "stderr",
          "output_type": "stream",
          "text": [
            "     56/150      4.01G      1.127     0.6539      1.107         15        640: 100%|██████████| 25/25 [00:04<00:00,  5.48it/s]\n",
            "                 Class     Images  Instances      Box(P          R      mAP50  mAP50-95): 100%|██████████| 2/2 [00:00<00:00,  6.12it/s]"
          ]
        },
        {
          "name": "stdout",
          "output_type": "stream",
          "text": [
            "                   all         43         47      0.886      0.894      0.931      0.466\n"
          ]
        },
        {
          "name": "stderr",
          "output_type": "stream",
          "text": [
            "\n"
          ]
        },
        {
          "name": "stdout",
          "output_type": "stream",
          "text": [
            "\n",
            "      Epoch    GPU_mem   box_loss   cls_loss   dfl_loss  Instances       Size\n"
          ]
        },
        {
          "name": "stderr",
          "output_type": "stream",
          "text": [
            "     57/150         4G      1.115     0.6437      1.135          9        640: 100%|██████████| 25/25 [00:04<00:00,  5.34it/s]\n",
            "                 Class     Images  Instances      Box(P          R      mAP50  mAP50-95): 100%|██████████| 2/2 [00:00<00:00,  5.93it/s]"
          ]
        },
        {
          "name": "stdout",
          "output_type": "stream",
          "text": [
            "                   all         43         47      0.866       0.83      0.885      0.456\n"
          ]
        },
        {
          "name": "stderr",
          "output_type": "stream",
          "text": [
            "\n"
          ]
        },
        {
          "name": "stdout",
          "output_type": "stream",
          "text": [
            "\n",
            "      Epoch    GPU_mem   box_loss   cls_loss   dfl_loss  Instances       Size\n"
          ]
        },
        {
          "name": "stderr",
          "output_type": "stream",
          "text": [
            "     58/150      4.01G      1.101     0.6427      1.098         12        640: 100%|██████████| 25/25 [00:04<00:00,  5.37it/s]\n",
            "                 Class     Images  Instances      Box(P          R      mAP50  mAP50-95): 100%|██████████| 2/2 [00:00<00:00,  6.76it/s]"
          ]
        },
        {
          "name": "stdout",
          "output_type": "stream",
          "text": [
            "                   all         43         47      0.882       0.83      0.889      0.478\n"
          ]
        },
        {
          "name": "stderr",
          "output_type": "stream",
          "text": [
            "\n"
          ]
        },
        {
          "name": "stdout",
          "output_type": "stream",
          "text": [
            "\n",
            "      Epoch    GPU_mem   box_loss   cls_loss   dfl_loss  Instances       Size\n"
          ]
        },
        {
          "name": "stderr",
          "output_type": "stream",
          "text": [
            "     59/150      4.01G      1.106      0.642      1.105         15        640: 100%|██████████| 25/25 [00:04<00:00,  5.45it/s]\n",
            "                 Class     Images  Instances      Box(P          R      mAP50  mAP50-95): 100%|██████████| 2/2 [00:00<00:00,  5.97it/s]"
          ]
        },
        {
          "name": "stdout",
          "output_type": "stream",
          "text": [
            "                   all         43         47      0.931      0.872      0.911        0.5\n"
          ]
        },
        {
          "name": "stderr",
          "output_type": "stream",
          "text": [
            "\n"
          ]
        },
        {
          "name": "stdout",
          "output_type": "stream",
          "text": [
            "\n",
            "      Epoch    GPU_mem   box_loss   cls_loss   dfl_loss  Instances       Size\n"
          ]
        },
        {
          "name": "stderr",
          "output_type": "stream",
          "text": [
            "     60/150      4.01G      1.095       0.65      1.098         10        640: 100%|██████████| 25/25 [00:04<00:00,  5.46it/s]\n",
            "                 Class     Images  Instances      Box(P          R      mAP50  mAP50-95): 100%|██████████| 2/2 [00:00<00:00,  6.41it/s]"
          ]
        },
        {
          "name": "stdout",
          "output_type": "stream",
          "text": [
            "                   all         43         47      0.912      0.936       0.95       0.51\n"
          ]
        },
        {
          "name": "stderr",
          "output_type": "stream",
          "text": [
            "\n"
          ]
        },
        {
          "name": "stdout",
          "output_type": "stream",
          "text": [
            "\n",
            "      Epoch    GPU_mem   box_loss   cls_loss   dfl_loss  Instances       Size\n"
          ]
        },
        {
          "name": "stderr",
          "output_type": "stream",
          "text": [
            "     61/150         4G      1.101      0.645      1.123          9        640: 100%|██████████| 25/25 [00:04<00:00,  5.52it/s]\n",
            "                 Class     Images  Instances      Box(P          R      mAP50  mAP50-95): 100%|██████████| 2/2 [00:00<00:00,  6.74it/s]"
          ]
        },
        {
          "name": "stdout",
          "output_type": "stream",
          "text": [
            "                   all         43         47      0.863      0.851      0.896      0.474\n"
          ]
        },
        {
          "name": "stderr",
          "output_type": "stream",
          "text": [
            "\n"
          ]
        },
        {
          "name": "stdout",
          "output_type": "stream",
          "text": [
            "\n",
            "      Epoch    GPU_mem   box_loss   cls_loss   dfl_loss  Instances       Size\n"
          ]
        },
        {
          "name": "stderr",
          "output_type": "stream",
          "text": [
            "     62/150      4.01G      1.126     0.6459       1.12         12        640: 100%|██████████| 25/25 [00:04<00:00,  5.39it/s]\n",
            "                 Class     Images  Instances      Box(P          R      mAP50  mAP50-95): 100%|██████████| 2/2 [00:00<00:00,  6.60it/s]"
          ]
        },
        {
          "name": "stdout",
          "output_type": "stream",
          "text": [
            "                   all         43         47      0.932      0.851      0.925      0.487\n"
          ]
        },
        {
          "name": "stderr",
          "output_type": "stream",
          "text": [
            "\n"
          ]
        },
        {
          "name": "stdout",
          "output_type": "stream",
          "text": [
            "\n",
            "      Epoch    GPU_mem   box_loss   cls_loss   dfl_loss  Instances       Size\n"
          ]
        },
        {
          "name": "stderr",
          "output_type": "stream",
          "text": [
            "     63/150      4.01G       1.13     0.6519      1.119         12        640: 100%|██████████| 25/25 [00:04<00:00,  5.45it/s]\n",
            "                 Class     Images  Instances      Box(P          R      mAP50  mAP50-95): 100%|██████████| 2/2 [00:00<00:00,  6.51it/s]"
          ]
        },
        {
          "name": "stdout",
          "output_type": "stream",
          "text": [
            "                   all         43         47      0.891      0.851      0.914      0.475\n"
          ]
        },
        {
          "name": "stderr",
          "output_type": "stream",
          "text": [
            "\n"
          ]
        },
        {
          "name": "stdout",
          "output_type": "stream",
          "text": [
            "\n",
            "      Epoch    GPU_mem   box_loss   cls_loss   dfl_loss  Instances       Size\n"
          ]
        },
        {
          "name": "stderr",
          "output_type": "stream",
          "text": [
            "     64/150      4.01G      1.073     0.6398      1.108          9        640: 100%|██████████| 25/25 [00:04<00:00,  5.16it/s]\n",
            "                 Class     Images  Instances      Box(P          R      mAP50  mAP50-95): 100%|██████████| 2/2 [00:00<00:00,  5.92it/s]"
          ]
        },
        {
          "name": "stdout",
          "output_type": "stream",
          "text": [
            "                   all         43         47      0.952      0.848      0.945      0.516\n"
          ]
        },
        {
          "name": "stderr",
          "output_type": "stream",
          "text": [
            "\n"
          ]
        },
        {
          "name": "stdout",
          "output_type": "stream",
          "text": [
            "\n",
            "      Epoch    GPU_mem   box_loss   cls_loss   dfl_loss  Instances       Size\n"
          ]
        },
        {
          "name": "stderr",
          "output_type": "stream",
          "text": [
            "     65/150         4G      1.086     0.6284      1.101          8        640: 100%|██████████| 25/25 [00:04<00:00,  5.45it/s]\n",
            "                 Class     Images  Instances      Box(P          R      mAP50  mAP50-95): 100%|██████████| 2/2 [00:00<00:00,  6.09it/s]"
          ]
        },
        {
          "name": "stdout",
          "output_type": "stream",
          "text": [
            "                   all         43         47      0.838      0.883      0.903      0.491\n"
          ]
        },
        {
          "name": "stderr",
          "output_type": "stream",
          "text": [
            "\n"
          ]
        },
        {
          "name": "stdout",
          "output_type": "stream",
          "text": [
            "\n",
            "      Epoch    GPU_mem   box_loss   cls_loss   dfl_loss  Instances       Size\n"
          ]
        },
        {
          "name": "stderr",
          "output_type": "stream",
          "text": [
            "     66/150      4.01G      1.077     0.6321      1.107         18        640: 100%|██████████| 25/25 [00:04<00:00,  5.50it/s]\n",
            "                 Class     Images  Instances      Box(P          R      mAP50  mAP50-95): 100%|██████████| 2/2 [00:00<00:00,  6.10it/s]"
          ]
        },
        {
          "name": "stdout",
          "output_type": "stream",
          "text": [
            "                   all         43         47      0.891      0.869      0.913      0.458\n"
          ]
        },
        {
          "name": "stderr",
          "output_type": "stream",
          "text": [
            "\n"
          ]
        },
        {
          "name": "stdout",
          "output_type": "stream",
          "text": [
            "\n",
            "      Epoch    GPU_mem   box_loss   cls_loss   dfl_loss  Instances       Size\n"
          ]
        },
        {
          "name": "stderr",
          "output_type": "stream",
          "text": [
            "     67/150      4.01G      1.043     0.6218      1.059         13        640: 100%|██████████| 25/25 [00:04<00:00,  5.10it/s]\n",
            "                 Class     Images  Instances      Box(P          R      mAP50  mAP50-95): 100%|██████████| 2/2 [00:00<00:00,  5.90it/s]"
          ]
        },
        {
          "name": "stdout",
          "output_type": "stream",
          "text": [
            "                   all         43         47      0.942       0.83      0.914      0.446\n"
          ]
        },
        {
          "name": "stderr",
          "output_type": "stream",
          "text": [
            "\n"
          ]
        },
        {
          "name": "stdout",
          "output_type": "stream",
          "text": [
            "\n",
            "      Epoch    GPU_mem   box_loss   cls_loss   dfl_loss  Instances       Size\n"
          ]
        },
        {
          "name": "stderr",
          "output_type": "stream",
          "text": [
            "     68/150      4.01G      1.062     0.6414      1.092         11        640: 100%|██████████| 25/25 [00:04<00:00,  5.45it/s]\n",
            "                 Class     Images  Instances      Box(P          R      mAP50  mAP50-95): 100%|██████████| 2/2 [00:00<00:00,  6.56it/s]"
          ]
        },
        {
          "name": "stdout",
          "output_type": "stream",
          "text": [
            "                   all         43         47      0.837      0.876      0.893      0.491\n"
          ]
        },
        {
          "name": "stderr",
          "output_type": "stream",
          "text": [
            "\n"
          ]
        },
        {
          "name": "stdout",
          "output_type": "stream",
          "text": [
            "\n",
            "      Epoch    GPU_mem   box_loss   cls_loss   dfl_loss  Instances       Size\n"
          ]
        },
        {
          "name": "stderr",
          "output_type": "stream",
          "text": [
            "     69/150         4G      1.067     0.6066      1.092         11        640: 100%|██████████| 25/25 [00:04<00:00,  5.46it/s]\n",
            "                 Class     Images  Instances      Box(P          R      mAP50  mAP50-95): 100%|██████████| 2/2 [00:00<00:00,  6.71it/s]"
          ]
        },
        {
          "name": "stdout",
          "output_type": "stream",
          "text": [
            "                   all         43         47      0.864      0.813       0.87      0.485\n"
          ]
        },
        {
          "name": "stderr",
          "output_type": "stream",
          "text": [
            "\n"
          ]
        },
        {
          "name": "stdout",
          "output_type": "stream",
          "text": [
            "\n",
            "      Epoch    GPU_mem   box_loss   cls_loss   dfl_loss  Instances       Size\n"
          ]
        },
        {
          "name": "stderr",
          "output_type": "stream",
          "text": [
            "     70/150      4.01G      1.051     0.6109      1.098         15        640: 100%|██████████| 25/25 [00:04<00:00,  5.51it/s]\n",
            "                 Class     Images  Instances      Box(P          R      mAP50  mAP50-95): 100%|██████████| 2/2 [00:00<00:00,  6.35it/s]"
          ]
        },
        {
          "name": "stdout",
          "output_type": "stream",
          "text": [
            "                   all         43         47      0.929      0.851      0.915      0.483\n"
          ]
        },
        {
          "name": "stderr",
          "output_type": "stream",
          "text": [
            "\n"
          ]
        },
        {
          "name": "stdout",
          "output_type": "stream",
          "text": [
            "\n",
            "      Epoch    GPU_mem   box_loss   cls_loss   dfl_loss  Instances       Size\n"
          ]
        },
        {
          "name": "stderr",
          "output_type": "stream",
          "text": [
            "     71/150      4.01G       1.05     0.6035      1.068         12        640: 100%|██████████| 25/25 [00:04<00:00,  5.43it/s]\n",
            "                 Class     Images  Instances      Box(P          R      mAP50  mAP50-95): 100%|██████████| 2/2 [00:00<00:00,  6.52it/s]"
          ]
        },
        {
          "name": "stdout",
          "output_type": "stream",
          "text": [
            "                   all         43         47      0.965       0.83      0.911      0.453\n"
          ]
        },
        {
          "name": "stderr",
          "output_type": "stream",
          "text": [
            "\n"
          ]
        },
        {
          "name": "stdout",
          "output_type": "stream",
          "text": [
            "\n",
            "      Epoch    GPU_mem   box_loss   cls_loss   dfl_loss  Instances       Size\n"
          ]
        },
        {
          "name": "stderr",
          "output_type": "stream",
          "text": [
            "     72/150      4.01G      1.085     0.6258      1.082         15        640: 100%|██████████| 25/25 [00:04<00:00,  5.43it/s]\n",
            "                 Class     Images  Instances      Box(P          R      mAP50  mAP50-95): 100%|██████████| 2/2 [00:00<00:00,  6.70it/s]"
          ]
        },
        {
          "name": "stdout",
          "output_type": "stream",
          "text": [
            "                   all         43         47      0.911      0.867      0.932       0.49\n"
          ]
        },
        {
          "name": "stderr",
          "output_type": "stream",
          "text": [
            "\n"
          ]
        },
        {
          "name": "stdout",
          "output_type": "stream",
          "text": [
            "\n",
            "      Epoch    GPU_mem   box_loss   cls_loss   dfl_loss  Instances       Size\n"
          ]
        },
        {
          "name": "stderr",
          "output_type": "stream",
          "text": [
            "     73/150         4G      1.055      0.601      1.074         19        640: 100%|██████████| 25/25 [00:04<00:00,  5.43it/s]\n",
            "                 Class     Images  Instances      Box(P          R      mAP50  mAP50-95): 100%|██████████| 2/2 [00:00<00:00,  6.49it/s]"
          ]
        },
        {
          "name": "stdout",
          "output_type": "stream",
          "text": [
            "                   all         43         47      0.854      0.868      0.915      0.479\n"
          ]
        },
        {
          "name": "stderr",
          "output_type": "stream",
          "text": [
            "\n"
          ]
        },
        {
          "name": "stdout",
          "output_type": "stream",
          "text": [
            "\n",
            "      Epoch    GPU_mem   box_loss   cls_loss   dfl_loss  Instances       Size\n"
          ]
        },
        {
          "name": "stderr",
          "output_type": "stream",
          "text": [
            "     74/150      4.01G       1.02     0.5845      1.075         13        640: 100%|██████████| 25/25 [00:04<00:00,  5.54it/s]\n",
            "                 Class     Images  Instances      Box(P          R      mAP50  mAP50-95): 100%|██████████| 2/2 [00:00<00:00,  7.07it/s]"
          ]
        },
        {
          "name": "stdout",
          "output_type": "stream",
          "text": [
            "                   all         43         47      0.867      0.894       0.91      0.468\n"
          ]
        },
        {
          "name": "stderr",
          "output_type": "stream",
          "text": [
            "\n"
          ]
        },
        {
          "name": "stdout",
          "output_type": "stream",
          "text": [
            "\n",
            "      Epoch    GPU_mem   box_loss   cls_loss   dfl_loss  Instances       Size\n"
          ]
        },
        {
          "name": "stderr",
          "output_type": "stream",
          "text": [
            "     75/150      4.01G      1.001     0.5819      1.091          5        640: 100%|██████████| 25/25 [00:04<00:00,  5.33it/s]\n",
            "                 Class     Images  Instances      Box(P          R      mAP50  mAP50-95): 100%|██████████| 2/2 [00:00<00:00,  6.15it/s]"
          ]
        },
        {
          "name": "stdout",
          "output_type": "stream",
          "text": [
            "                   all         43         47       0.83      0.851      0.901       0.52\n"
          ]
        },
        {
          "name": "stderr",
          "output_type": "stream",
          "text": [
            "\n"
          ]
        },
        {
          "name": "stdout",
          "output_type": "stream",
          "text": [
            "\n",
            "      Epoch    GPU_mem   box_loss   cls_loss   dfl_loss  Instances       Size\n"
          ]
        },
        {
          "name": "stderr",
          "output_type": "stream",
          "text": [
            "     76/150      4.01G      1.053     0.6199      1.097          7        640: 100%|██████████| 25/25 [00:04<00:00,  5.24it/s]\n",
            "                 Class     Images  Instances      Box(P          R      mAP50  mAP50-95): 100%|██████████| 2/2 [00:00<00:00,  6.61it/s]"
          ]
        },
        {
          "name": "stdout",
          "output_type": "stream",
          "text": [
            "                   all         43         47      0.886      0.894      0.886      0.503\n"
          ]
        },
        {
          "name": "stderr",
          "output_type": "stream",
          "text": [
            "\n"
          ]
        },
        {
          "name": "stdout",
          "output_type": "stream",
          "text": [
            "\n",
            "      Epoch    GPU_mem   box_loss   cls_loss   dfl_loss  Instances       Size\n"
          ]
        },
        {
          "name": "stderr",
          "output_type": "stream",
          "text": [
            "     77/150         4G      1.013     0.5861      1.072          8        640: 100%|██████████| 25/25 [00:04<00:00,  5.46it/s]\n",
            "                 Class     Images  Instances      Box(P          R      mAP50  mAP50-95): 100%|██████████| 2/2 [00:00<00:00,  6.76it/s]"
          ]
        },
        {
          "name": "stdout",
          "output_type": "stream",
          "text": [
            "                   all         43         47      0.865      0.872      0.895      0.499\n"
          ]
        },
        {
          "name": "stderr",
          "output_type": "stream",
          "text": [
            "\n"
          ]
        },
        {
          "name": "stdout",
          "output_type": "stream",
          "text": [
            "\n",
            "      Epoch    GPU_mem   box_loss   cls_loss   dfl_loss  Instances       Size\n"
          ]
        },
        {
          "name": "stderr",
          "output_type": "stream",
          "text": [
            "     78/150      4.01G      1.023     0.5737      1.074         18        640: 100%|██████████| 25/25 [00:04<00:00,  5.38it/s]\n",
            "                 Class     Images  Instances      Box(P          R      mAP50  mAP50-95): 100%|██████████| 2/2 [00:00<00:00,  6.32it/s]"
          ]
        },
        {
          "name": "stdout",
          "output_type": "stream",
          "text": [
            "                   all         43         47      0.873      0.915      0.904      0.504\n"
          ]
        },
        {
          "name": "stderr",
          "output_type": "stream",
          "text": [
            "\n"
          ]
        },
        {
          "name": "stdout",
          "output_type": "stream",
          "text": [
            "\n",
            "      Epoch    GPU_mem   box_loss   cls_loss   dfl_loss  Instances       Size\n"
          ]
        },
        {
          "name": "stderr",
          "output_type": "stream",
          "text": [
            "     79/150      4.01G      1.008      0.599      1.075         14        640: 100%|██████████| 25/25 [00:04<00:00,  5.34it/s]\n",
            "                 Class     Images  Instances      Box(P          R      mAP50  mAP50-95): 100%|██████████| 2/2 [00:00<00:00,  5.66it/s]"
          ]
        },
        {
          "name": "stdout",
          "output_type": "stream",
          "text": [
            "                   all         43         47      0.896      0.914      0.905      0.475\n"
          ]
        },
        {
          "name": "stderr",
          "output_type": "stream",
          "text": [
            "\n"
          ]
        },
        {
          "name": "stdout",
          "output_type": "stream",
          "text": [
            "\n",
            "      Epoch    GPU_mem   box_loss   cls_loss   dfl_loss  Instances       Size\n"
          ]
        },
        {
          "name": "stderr",
          "output_type": "stream",
          "text": [
            "     80/150      4.01G     0.9817     0.5617      1.066         12        640: 100%|██████████| 25/25 [00:04<00:00,  5.31it/s]\n",
            "                 Class     Images  Instances      Box(P          R      mAP50  mAP50-95): 100%|██████████| 2/2 [00:00<00:00,  6.85it/s]"
          ]
        },
        {
          "name": "stdout",
          "output_type": "stream",
          "text": [
            "                   all         43         47        0.9      0.872      0.889      0.487\n"
          ]
        },
        {
          "name": "stderr",
          "output_type": "stream",
          "text": [
            "\n"
          ]
        },
        {
          "name": "stdout",
          "output_type": "stream",
          "text": [
            "\n",
            "      Epoch    GPU_mem   box_loss   cls_loss   dfl_loss  Instances       Size\n"
          ]
        },
        {
          "name": "stderr",
          "output_type": "stream",
          "text": [
            "     81/150         4G     0.9872      0.576      1.069         12        640: 100%|██████████| 25/25 [00:04<00:00,  5.44it/s]\n",
            "                 Class     Images  Instances      Box(P          R      mAP50  mAP50-95): 100%|██████████| 2/2 [00:00<00:00,  6.84it/s]"
          ]
        },
        {
          "name": "stdout",
          "output_type": "stream",
          "text": [
            "                   all         43         47      0.892      0.878       0.91      0.491\n"
          ]
        },
        {
          "name": "stderr",
          "output_type": "stream",
          "text": [
            "\n"
          ]
        },
        {
          "name": "stdout",
          "output_type": "stream",
          "text": [
            "\n",
            "      Epoch    GPU_mem   box_loss   cls_loss   dfl_loss  Instances       Size\n"
          ]
        },
        {
          "name": "stderr",
          "output_type": "stream",
          "text": [
            "     82/150      4.01G      1.039     0.5803      1.079         18        640: 100%|██████████| 25/25 [00:04<00:00,  5.40it/s]\n",
            "                 Class     Images  Instances      Box(P          R      mAP50  mAP50-95): 100%|██████████| 2/2 [00:00<00:00,  5.90it/s]"
          ]
        },
        {
          "name": "stdout",
          "output_type": "stream",
          "text": [
            "                   all         43         47      0.907      0.915      0.902      0.489\n"
          ]
        },
        {
          "name": "stderr",
          "output_type": "stream",
          "text": [
            "\n"
          ]
        },
        {
          "name": "stdout",
          "output_type": "stream",
          "text": [
            "\n",
            "      Epoch    GPU_mem   box_loss   cls_loss   dfl_loss  Instances       Size\n"
          ]
        },
        {
          "name": "stderr",
          "output_type": "stream",
          "text": [
            "     83/150      4.01G      1.021     0.5879      1.075         10        640: 100%|██████████| 25/25 [00:04<00:00,  5.54it/s]\n",
            "                 Class     Images  Instances      Box(P          R      mAP50  mAP50-95): 100%|██████████| 2/2 [00:00<00:00,  6.88it/s]"
          ]
        },
        {
          "name": "stdout",
          "output_type": "stream",
          "text": [
            "                   all         43         47      0.892      0.882      0.894      0.481\n"
          ]
        },
        {
          "name": "stderr",
          "output_type": "stream",
          "text": [
            "\n"
          ]
        },
        {
          "name": "stdout",
          "output_type": "stream",
          "text": [
            "\n",
            "      Epoch    GPU_mem   box_loss   cls_loss   dfl_loss  Instances       Size\n"
          ]
        },
        {
          "name": "stderr",
          "output_type": "stream",
          "text": [
            "     84/150      4.01G      1.022     0.5881      1.064          7        640: 100%|██████████| 25/25 [00:04<00:00,  5.58it/s]\n",
            "                 Class     Images  Instances      Box(P          R      mAP50  mAP50-95): 100%|██████████| 2/2 [00:00<00:00,  5.55it/s]"
          ]
        },
        {
          "name": "stdout",
          "output_type": "stream",
          "text": [
            "                   all         43         47      0.893      0.851      0.878      0.491\n"
          ]
        },
        {
          "name": "stderr",
          "output_type": "stream",
          "text": [
            "\n"
          ]
        },
        {
          "name": "stdout",
          "output_type": "stream",
          "text": [
            "\n",
            "      Epoch    GPU_mem   box_loss   cls_loss   dfl_loss  Instances       Size\n"
          ]
        },
        {
          "name": "stderr",
          "output_type": "stream",
          "text": [
            "     85/150         4G      1.018     0.5679      1.056         11        640: 100%|██████████| 25/25 [00:04<00:00,  5.36it/s]\n",
            "                 Class     Images  Instances      Box(P          R      mAP50  mAP50-95): 100%|██████████| 2/2 [00:00<00:00,  6.09it/s]"
          ]
        },
        {
          "name": "stdout",
          "output_type": "stream",
          "text": [
            "                   all         43         47       0.88      0.851        0.9      0.506\n"
          ]
        },
        {
          "name": "stderr",
          "output_type": "stream",
          "text": [
            "\n"
          ]
        },
        {
          "name": "stdout",
          "output_type": "stream",
          "text": [
            "\n",
            "      Epoch    GPU_mem   box_loss   cls_loss   dfl_loss  Instances       Size\n"
          ]
        },
        {
          "name": "stderr",
          "output_type": "stream",
          "text": [
            "     86/150      4.01G     0.9699     0.5573      1.054         11        640: 100%|██████████| 25/25 [00:04<00:00,  5.41it/s]\n",
            "                 Class     Images  Instances      Box(P          R      mAP50  mAP50-95): 100%|██████████| 2/2 [00:00<00:00,  6.86it/s]"
          ]
        },
        {
          "name": "stdout",
          "output_type": "stream",
          "text": [
            "                   all         43         47      0.866      0.809      0.894      0.503\n"
          ]
        },
        {
          "name": "stderr",
          "output_type": "stream",
          "text": [
            "\n"
          ]
        },
        {
          "name": "stdout",
          "output_type": "stream",
          "text": [
            "\n",
            "      Epoch    GPU_mem   box_loss   cls_loss   dfl_loss  Instances       Size\n"
          ]
        },
        {
          "name": "stderr",
          "output_type": "stream",
          "text": [
            "     87/150      4.01G     0.9916     0.5477      1.059         10        640: 100%|██████████| 25/25 [00:04<00:00,  5.36it/s]\n",
            "                 Class     Images  Instances      Box(P          R      mAP50  mAP50-95): 100%|██████████| 2/2 [00:00<00:00,  6.58it/s]"
          ]
        },
        {
          "name": "stdout",
          "output_type": "stream",
          "text": [
            "                   all         43         47      0.867      0.894        0.9      0.487\n"
          ]
        },
        {
          "name": "stderr",
          "output_type": "stream",
          "text": [
            "\n"
          ]
        },
        {
          "name": "stdout",
          "output_type": "stream",
          "text": [
            "\n",
            "      Epoch    GPU_mem   box_loss   cls_loss   dfl_loss  Instances       Size\n"
          ]
        },
        {
          "name": "stderr",
          "output_type": "stream",
          "text": [
            "     88/150      4.01G      1.002     0.5548      1.065         14        640: 100%|██████████| 25/25 [00:04<00:00,  5.36it/s]\n",
            "                 Class     Images  Instances      Box(P          R      mAP50  mAP50-95): 100%|██████████| 2/2 [00:00<00:00,  6.69it/s]"
          ]
        },
        {
          "name": "stdout",
          "output_type": "stream",
          "text": [
            "                   all         43         47       0.91      0.894      0.934      0.511\n"
          ]
        },
        {
          "name": "stderr",
          "output_type": "stream",
          "text": [
            "\n"
          ]
        },
        {
          "name": "stdout",
          "output_type": "stream",
          "text": [
            "\n",
            "      Epoch    GPU_mem   box_loss   cls_loss   dfl_loss  Instances       Size\n"
          ]
        },
        {
          "name": "stderr",
          "output_type": "stream",
          "text": [
            "     89/150         4G     0.9811     0.5462      1.046         12        640: 100%|██████████| 25/25 [00:04<00:00,  5.45it/s]\n",
            "                 Class     Images  Instances      Box(P          R      mAP50  mAP50-95): 100%|██████████| 2/2 [00:00<00:00,  6.73it/s]"
          ]
        },
        {
          "name": "stdout",
          "output_type": "stream",
          "text": [
            "                   all         43         47      0.903      0.894      0.911       0.49\n"
          ]
        },
        {
          "name": "stderr",
          "output_type": "stream",
          "text": [
            "\n"
          ]
        },
        {
          "name": "stdout",
          "output_type": "stream",
          "text": [
            "\n",
            "      Epoch    GPU_mem   box_loss   cls_loss   dfl_loss  Instances       Size\n"
          ]
        },
        {
          "name": "stderr",
          "output_type": "stream",
          "text": [
            "     90/150      4.01G     0.9804     0.5431      1.053         10        640: 100%|██████████| 25/25 [00:04<00:00,  5.28it/s]\n",
            "                 Class     Images  Instances      Box(P          R      mAP50  mAP50-95): 100%|██████████| 2/2 [00:00<00:00,  5.90it/s]"
          ]
        },
        {
          "name": "stdout",
          "output_type": "stream",
          "text": [
            "                   all         43         47      0.869      0.894      0.888      0.503\n"
          ]
        },
        {
          "name": "stderr",
          "output_type": "stream",
          "text": [
            "\n"
          ]
        },
        {
          "name": "stdout",
          "output_type": "stream",
          "text": [
            "\n",
            "      Epoch    GPU_mem   box_loss   cls_loss   dfl_loss  Instances       Size\n"
          ]
        },
        {
          "name": "stderr",
          "output_type": "stream",
          "text": [
            "     91/150      4.01G     0.9845     0.5573      1.048         12        640: 100%|██████████| 25/25 [00:04<00:00,  5.37it/s]\n",
            "                 Class     Images  Instances      Box(P          R      mAP50  mAP50-95): 100%|██████████| 2/2 [00:00<00:00,  5.95it/s]"
          ]
        },
        {
          "name": "stdout",
          "output_type": "stream",
          "text": [
            "                   all         43         47       0.95      0.807      0.893       0.47\n"
          ]
        },
        {
          "name": "stderr",
          "output_type": "stream",
          "text": [
            "\n"
          ]
        },
        {
          "name": "stdout",
          "output_type": "stream",
          "text": [
            "\n",
            "      Epoch    GPU_mem   box_loss   cls_loss   dfl_loss  Instances       Size\n"
          ]
        },
        {
          "name": "stderr",
          "output_type": "stream",
          "text": [
            "     92/150      4.01G     0.9481     0.5411      1.041         12        640: 100%|██████████| 25/25 [00:04<00:00,  5.30it/s]\n",
            "                 Class     Images  Instances      Box(P          R      mAP50  mAP50-95): 100%|██████████| 2/2 [00:00<00:00,  6.87it/s]"
          ]
        },
        {
          "name": "stdout",
          "output_type": "stream",
          "text": [
            "                   all         43         47      0.888      0.851      0.866      0.486\n"
          ]
        },
        {
          "name": "stderr",
          "output_type": "stream",
          "text": [
            "\n"
          ]
        },
        {
          "name": "stdout",
          "output_type": "stream",
          "text": [
            "\n",
            "      Epoch    GPU_mem   box_loss   cls_loss   dfl_loss  Instances       Size\n"
          ]
        },
        {
          "name": "stderr",
          "output_type": "stream",
          "text": [
            "     93/150         4G     0.9551     0.5223      1.045         10        640: 100%|██████████| 25/25 [00:04<00:00,  5.35it/s]\n",
            "                 Class     Images  Instances      Box(P          R      mAP50  mAP50-95): 100%|██████████| 2/2 [00:00<00:00,  6.02it/s]"
          ]
        },
        {
          "name": "stdout",
          "output_type": "stream",
          "text": [
            "                   all         43         47      0.889      0.848      0.881      0.501\n"
          ]
        },
        {
          "name": "stderr",
          "output_type": "stream",
          "text": [
            "\n"
          ]
        },
        {
          "name": "stdout",
          "output_type": "stream",
          "text": [
            "\n",
            "      Epoch    GPU_mem   box_loss   cls_loss   dfl_loss  Instances       Size\n"
          ]
        },
        {
          "name": "stderr",
          "output_type": "stream",
          "text": [
            "     94/150      4.01G      0.951     0.5403      1.033          8        640: 100%|██████████| 25/25 [00:04<00:00,  5.36it/s]\n",
            "                 Class     Images  Instances      Box(P          R      mAP50  mAP50-95): 100%|██████████| 2/2 [00:00<00:00,  6.05it/s]"
          ]
        },
        {
          "name": "stdout",
          "output_type": "stream",
          "text": [
            "                   all         43         47      0.919       0.83      0.901      0.518\n"
          ]
        },
        {
          "name": "stderr",
          "output_type": "stream",
          "text": [
            "\n"
          ]
        },
        {
          "name": "stdout",
          "output_type": "stream",
          "text": [
            "\n",
            "      Epoch    GPU_mem   box_loss   cls_loss   dfl_loss  Instances       Size\n"
          ]
        },
        {
          "name": "stderr",
          "output_type": "stream",
          "text": [
            "     95/150      4.01G     0.9455     0.5444      1.035         11        640: 100%|██████████| 25/25 [00:04<00:00,  5.35it/s]\n",
            "                 Class     Images  Instances      Box(P          R      mAP50  mAP50-95): 100%|██████████| 2/2 [00:00<00:00,  6.54it/s]"
          ]
        },
        {
          "name": "stdout",
          "output_type": "stream",
          "text": [
            "                   all         43         47       0.85      0.894      0.886        0.5\n"
          ]
        },
        {
          "name": "stderr",
          "output_type": "stream",
          "text": [
            "\n"
          ]
        },
        {
          "name": "stdout",
          "output_type": "stream",
          "text": [
            "\n",
            "      Epoch    GPU_mem   box_loss   cls_loss   dfl_loss  Instances       Size\n"
          ]
        },
        {
          "name": "stderr",
          "output_type": "stream",
          "text": [
            "     96/150      4.01G     0.9751     0.5505      1.053          9        640: 100%|██████████| 25/25 [00:04<00:00,  5.47it/s]\n",
            "                 Class     Images  Instances      Box(P          R      mAP50  mAP50-95): 100%|██████████| 2/2 [00:00<00:00,  6.61it/s]"
          ]
        },
        {
          "name": "stdout",
          "output_type": "stream",
          "text": [
            "                   all         43         47      0.842      0.851      0.876      0.485\n"
          ]
        },
        {
          "name": "stderr",
          "output_type": "stream",
          "text": [
            "\n"
          ]
        },
        {
          "name": "stdout",
          "output_type": "stream",
          "text": [
            "\n",
            "      Epoch    GPU_mem   box_loss   cls_loss   dfl_loss  Instances       Size\n"
          ]
        },
        {
          "name": "stderr",
          "output_type": "stream",
          "text": [
            "     97/150         4G     0.9297     0.5512      1.036         10        640: 100%|██████████| 25/25 [00:04<00:00,  5.61it/s]\n",
            "                 Class     Images  Instances      Box(P          R      mAP50  mAP50-95): 100%|██████████| 2/2 [00:00<00:00,  6.28it/s]"
          ]
        },
        {
          "name": "stdout",
          "output_type": "stream",
          "text": [
            "                   all         43         47      0.887      0.851      0.907      0.495\n"
          ]
        },
        {
          "name": "stderr",
          "output_type": "stream",
          "text": [
            "\n"
          ]
        },
        {
          "name": "stdout",
          "output_type": "stream",
          "text": [
            "\n",
            "      Epoch    GPU_mem   box_loss   cls_loss   dfl_loss  Instances       Size\n"
          ]
        },
        {
          "name": "stderr",
          "output_type": "stream",
          "text": [
            "     98/150      4.01G     0.9637     0.5361      1.054         13        640: 100%|██████████| 25/25 [00:04<00:00,  5.57it/s]\n",
            "                 Class     Images  Instances      Box(P          R      mAP50  mAP50-95): 100%|██████████| 2/2 [00:00<00:00,  6.18it/s]"
          ]
        },
        {
          "name": "stdout",
          "output_type": "stream",
          "text": [
            "                   all         43         47      0.869      0.845      0.856      0.487\n"
          ]
        },
        {
          "name": "stderr",
          "output_type": "stream",
          "text": [
            "\n"
          ]
        },
        {
          "name": "stdout",
          "output_type": "stream",
          "text": [
            "\n",
            "      Epoch    GPU_mem   box_loss   cls_loss   dfl_loss  Instances       Size\n"
          ]
        },
        {
          "name": "stderr",
          "output_type": "stream",
          "text": [
            "     99/150      4.01G     0.9251     0.5217      1.029         16        640: 100%|██████████| 25/25 [00:04<00:00,  5.44it/s]\n",
            "                 Class     Images  Instances      Box(P          R      mAP50  mAP50-95): 100%|██████████| 2/2 [00:00<00:00,  6.62it/s]"
          ]
        },
        {
          "name": "stdout",
          "output_type": "stream",
          "text": [
            "                   all         43         47      0.829      0.872      0.874      0.508\n"
          ]
        },
        {
          "name": "stderr",
          "output_type": "stream",
          "text": [
            "\n"
          ]
        },
        {
          "name": "stdout",
          "output_type": "stream",
          "text": [
            "\n",
            "      Epoch    GPU_mem   box_loss   cls_loss   dfl_loss  Instances       Size\n"
          ]
        },
        {
          "name": "stderr",
          "output_type": "stream",
          "text": [
            "    100/150      4.01G     0.9384     0.5367      1.044         13        640: 100%|██████████| 25/25 [00:04<00:00,  5.48it/s]\n",
            "                 Class     Images  Instances      Box(P          R      mAP50  mAP50-95): 100%|██████████| 2/2 [00:00<00:00,  5.50it/s]"
          ]
        },
        {
          "name": "stdout",
          "output_type": "stream",
          "text": [
            "                   all         43         47      0.869      0.849      0.875      0.472\n"
          ]
        },
        {
          "name": "stderr",
          "output_type": "stream",
          "text": [
            "\n"
          ]
        },
        {
          "name": "stdout",
          "output_type": "stream",
          "text": [
            "\n",
            "      Epoch    GPU_mem   box_loss   cls_loss   dfl_loss  Instances       Size\n"
          ]
        },
        {
          "name": "stderr",
          "output_type": "stream",
          "text": [
            "    101/150         4G     0.9738     0.5421      1.044         10        640: 100%|██████████| 25/25 [00:04<00:00,  5.29it/s]\n",
            "                 Class     Images  Instances      Box(P          R      mAP50  mAP50-95): 100%|██████████| 2/2 [00:00<00:00,  6.84it/s]"
          ]
        },
        {
          "name": "stdout",
          "output_type": "stream",
          "text": [
            "                   all         43         47      0.876      0.915      0.927      0.491\n"
          ]
        },
        {
          "name": "stderr",
          "output_type": "stream",
          "text": [
            "\n"
          ]
        },
        {
          "name": "stdout",
          "output_type": "stream",
          "text": [
            "\n",
            "      Epoch    GPU_mem   box_loss   cls_loss   dfl_loss  Instances       Size\n"
          ]
        },
        {
          "name": "stderr",
          "output_type": "stream",
          "text": [
            "    102/150      4.01G     0.9306     0.5344      1.039         11        640: 100%|██████████| 25/25 [00:04<00:00,  5.32it/s]\n",
            "                 Class     Images  Instances      Box(P          R      mAP50  mAP50-95): 100%|██████████| 2/2 [00:00<00:00,  6.70it/s]"
          ]
        },
        {
          "name": "stdout",
          "output_type": "stream",
          "text": [
            "                   all         43         47       0.91      0.915      0.915       0.49\n"
          ]
        },
        {
          "name": "stderr",
          "output_type": "stream",
          "text": [
            "\n"
          ]
        },
        {
          "name": "stdout",
          "output_type": "stream",
          "text": [
            "\n",
            "      Epoch    GPU_mem   box_loss   cls_loss   dfl_loss  Instances       Size\n"
          ]
        },
        {
          "name": "stderr",
          "output_type": "stream",
          "text": [
            "    103/150      4.01G     0.9445     0.5387      1.055         17        640: 100%|██████████| 25/25 [00:04<00:00,  5.45it/s]\n",
            "                 Class     Images  Instances      Box(P          R      mAP50  mAP50-95): 100%|██████████| 2/2 [00:00<00:00,  6.60it/s]"
          ]
        },
        {
          "name": "stdout",
          "output_type": "stream",
          "text": [
            "                   all         43         47      0.865      0.894        0.9      0.478\n"
          ]
        },
        {
          "name": "stderr",
          "output_type": "stream",
          "text": [
            "\n"
          ]
        },
        {
          "name": "stdout",
          "output_type": "stream",
          "text": [
            "\n",
            "      Epoch    GPU_mem   box_loss   cls_loss   dfl_loss  Instances       Size\n"
          ]
        },
        {
          "name": "stderr",
          "output_type": "stream",
          "text": [
            "    104/150      4.01G     0.9249      0.525      1.026         16        640: 100%|██████████| 25/25 [00:04<00:00,  5.27it/s]\n",
            "                 Class     Images  Instances      Box(P          R      mAP50  mAP50-95): 100%|██████████| 2/2 [00:00<00:00,  6.31it/s]"
          ]
        },
        {
          "name": "stdout",
          "output_type": "stream",
          "text": [
            "                   all         43         47      0.911      0.868      0.927      0.499\n"
          ]
        },
        {
          "name": "stderr",
          "output_type": "stream",
          "text": [
            "\n"
          ]
        },
        {
          "name": "stdout",
          "output_type": "stream",
          "text": [
            "\n",
            "      Epoch    GPU_mem   box_loss   cls_loss   dfl_loss  Instances       Size\n"
          ]
        },
        {
          "name": "stderr",
          "output_type": "stream",
          "text": [
            "    105/150         4G     0.9116     0.4975      1.039          7        640: 100%|██████████| 25/25 [00:04<00:00,  5.52it/s]\n",
            "                 Class     Images  Instances      Box(P          R      mAP50  mAP50-95): 100%|██████████| 2/2 [00:00<00:00,  6.70it/s]"
          ]
        },
        {
          "name": "stdout",
          "output_type": "stream",
          "text": [
            "                   all         43         47      0.889      0.894       0.91      0.499\n"
          ]
        },
        {
          "name": "stderr",
          "output_type": "stream",
          "text": [
            "\n"
          ]
        },
        {
          "name": "stdout",
          "output_type": "stream",
          "text": [
            "\n",
            "      Epoch    GPU_mem   box_loss   cls_loss   dfl_loss  Instances       Size\n"
          ]
        },
        {
          "name": "stderr",
          "output_type": "stream",
          "text": [
            "    106/150      4.01G     0.9094      0.513      1.034         13        640: 100%|██████████| 25/25 [00:04<00:00,  5.65it/s]\n",
            "                 Class     Images  Instances      Box(P          R      mAP50  mAP50-95): 100%|██████████| 2/2 [00:00<00:00,  6.92it/s]"
          ]
        },
        {
          "name": "stdout",
          "output_type": "stream",
          "text": [
            "                   all         43         47      0.891      0.872      0.908        0.5\n"
          ]
        },
        {
          "name": "stderr",
          "output_type": "stream",
          "text": [
            "\n"
          ]
        },
        {
          "name": "stdout",
          "output_type": "stream",
          "text": [
            "\n",
            "      Epoch    GPU_mem   box_loss   cls_loss   dfl_loss  Instances       Size\n"
          ]
        },
        {
          "name": "stderr",
          "output_type": "stream",
          "text": [
            "    107/150      4.01G     0.9392     0.5238       1.03         13        640: 100%|██████████| 25/25 [00:04<00:00,  5.68it/s]\n",
            "                 Class     Images  Instances      Box(P          R      mAP50  mAP50-95): 100%|██████████| 2/2 [00:00<00:00,  6.35it/s]"
          ]
        },
        {
          "name": "stdout",
          "output_type": "stream",
          "text": [
            "                   all         43         47      0.887      0.872      0.904      0.464\n"
          ]
        },
        {
          "name": "stderr",
          "output_type": "stream",
          "text": [
            "\n"
          ]
        },
        {
          "name": "stdout",
          "output_type": "stream",
          "text": [
            "\n",
            "      Epoch    GPU_mem   box_loss   cls_loss   dfl_loss  Instances       Size\n"
          ]
        },
        {
          "name": "stderr",
          "output_type": "stream",
          "text": [
            "    108/150      4.01G     0.8897     0.5017      1.034         12        640: 100%|██████████| 25/25 [00:04<00:00,  5.54it/s]\n",
            "                 Class     Images  Instances      Box(P          R      mAP50  mAP50-95): 100%|██████████| 2/2 [00:00<00:00,  6.11it/s]"
          ]
        },
        {
          "name": "stdout",
          "output_type": "stream",
          "text": [
            "                   all         43         47      0.923      0.872      0.909      0.469\n"
          ]
        },
        {
          "name": "stderr",
          "output_type": "stream",
          "text": [
            "\n"
          ]
        },
        {
          "name": "stdout",
          "output_type": "stream",
          "text": [
            "\n",
            "      Epoch    GPU_mem   box_loss   cls_loss   dfl_loss  Instances       Size\n"
          ]
        },
        {
          "name": "stderr",
          "output_type": "stream",
          "text": [
            "    109/150         4G     0.8853     0.4997      1.012         13        640: 100%|██████████| 25/25 [00:04<00:00,  5.54it/s]\n",
            "                 Class     Images  Instances      Box(P          R      mAP50  mAP50-95): 100%|██████████| 2/2 [00:00<00:00,  6.86it/s]"
          ]
        },
        {
          "name": "stdout",
          "output_type": "stream",
          "text": [
            "                   all         43         47      0.908      0.841      0.888      0.481\n"
          ]
        },
        {
          "name": "stderr",
          "output_type": "stream",
          "text": [
            "\n"
          ]
        },
        {
          "name": "stdout",
          "output_type": "stream",
          "text": [
            "\n",
            "      Epoch    GPU_mem   box_loss   cls_loss   dfl_loss  Instances       Size\n"
          ]
        },
        {
          "name": "stderr",
          "output_type": "stream",
          "text": [
            "    110/150      4.01G     0.8874     0.5079      1.014          8        640: 100%|██████████| 25/25 [00:04<00:00,  5.05it/s]\n",
            "                 Class     Images  Instances      Box(P          R      mAP50  mAP50-95): 100%|██████████| 2/2 [00:00<00:00,  6.59it/s]"
          ]
        },
        {
          "name": "stdout",
          "output_type": "stream",
          "text": [
            "                   all         43         47      0.892      0.894      0.896      0.483\n"
          ]
        },
        {
          "name": "stderr",
          "output_type": "stream",
          "text": [
            "\n"
          ]
        },
        {
          "name": "stdout",
          "output_type": "stream",
          "text": [
            "\n",
            "      Epoch    GPU_mem   box_loss   cls_loss   dfl_loss  Instances       Size\n"
          ]
        },
        {
          "name": "stderr",
          "output_type": "stream",
          "text": [
            "    111/150      4.01G     0.8472     0.4792      1.005         15        640: 100%|██████████| 25/25 [00:04<00:00,  5.39it/s]\n",
            "                 Class     Images  Instances      Box(P          R      mAP50  mAP50-95): 100%|██████████| 2/2 [00:00<00:00,  6.83it/s]"
          ]
        },
        {
          "name": "stdout",
          "output_type": "stream",
          "text": [
            "                   all         43         47      0.883      0.872      0.906      0.488\n"
          ]
        },
        {
          "name": "stderr",
          "output_type": "stream",
          "text": [
            "\n"
          ]
        },
        {
          "name": "stdout",
          "output_type": "stream",
          "text": [
            "\n",
            "      Epoch    GPU_mem   box_loss   cls_loss   dfl_loss  Instances       Size\n"
          ]
        },
        {
          "name": "stderr",
          "output_type": "stream",
          "text": [
            "    112/150      4.01G      0.923     0.5013      1.014         11        640: 100%|██████████| 25/25 [00:04<00:00,  5.41it/s]\n",
            "                 Class     Images  Instances      Box(P          R      mAP50  mAP50-95): 100%|██████████| 2/2 [00:00<00:00,  7.10it/s]"
          ]
        },
        {
          "name": "stdout",
          "output_type": "stream",
          "text": [
            "                   all         43         47      0.859       0.91      0.918      0.479\n"
          ]
        },
        {
          "name": "stderr",
          "output_type": "stream",
          "text": [
            "\n"
          ]
        },
        {
          "name": "stdout",
          "output_type": "stream",
          "text": [
            "\n",
            "      Epoch    GPU_mem   box_loss   cls_loss   dfl_loss  Instances       Size\n"
          ]
        },
        {
          "name": "stderr",
          "output_type": "stream",
          "text": [
            "    113/150         4G     0.9093     0.4896      1.012         12        640: 100%|██████████| 25/25 [00:04<00:00,  5.33it/s]\n",
            "                 Class     Images  Instances      Box(P          R      mAP50  mAP50-95): 100%|██████████| 2/2 [00:00<00:00,  6.59it/s]"
          ]
        },
        {
          "name": "stdout",
          "output_type": "stream",
          "text": [
            "                   all         43         47      0.873      0.894      0.909      0.507\n"
          ]
        },
        {
          "name": "stderr",
          "output_type": "stream",
          "text": [
            "\n"
          ]
        },
        {
          "name": "stdout",
          "output_type": "stream",
          "text": [
            "\n",
            "      Epoch    GPU_mem   box_loss   cls_loss   dfl_loss  Instances       Size\n"
          ]
        },
        {
          "name": "stderr",
          "output_type": "stream",
          "text": [
            "    114/150      4.01G     0.8816     0.4914      1.007         12        640: 100%|██████████| 25/25 [00:04<00:00,  5.58it/s]\n",
            "                 Class     Images  Instances      Box(P          R      mAP50  mAP50-95): 100%|██████████| 2/2 [00:00<00:00,  6.18it/s]"
          ]
        },
        {
          "name": "stdout",
          "output_type": "stream",
          "text": [
            "                   all         43         47      0.875      0.893      0.905      0.487\n",
            "Stopping training early as no improvement observed in last 50 epochs. Best results observed at epoch 64, best model saved as best.pt.\n",
            "To update EarlyStopping(patience=50) pass a new patience value, i.e. `patience=300` or use `patience=0` to disable EarlyStopping.\n"
          ]
        },
        {
          "name": "stderr",
          "output_type": "stream",
          "text": [
            "\n"
          ]
        },
        {
          "name": "stdout",
          "output_type": "stream",
          "text": [
            "\n",
            "114 epochs completed in 0.181 hours.\n",
            "Optimizer stripped from runs\\detect\\train\\weights\\last.pt, 6.3MB\n",
            "Optimizer stripped from runs\\detect\\train\\weights\\best.pt, 6.2MB\n",
            "\n",
            "Validating runs\\detect\\train\\weights\\best.pt...\n",
            "Ultralytics YOLOv8.0.216 🚀 Python-3.10.13 torch-2.0.1+cu118 CUDA:0 (NVIDIA GeForce RTX 2070 SUPER, 8192MiB)\n",
            "Model summary (fused): 168 layers, 3005843 parameters, 0 gradients, 8.1 GFLOPs\n"
          ]
        },
        {
          "name": "stderr",
          "output_type": "stream",
          "text": [
            "                 Class     Images  Instances      Box(P          R      mAP50  mAP50-95): 100%|██████████| 2/2 [00:00<00:00,  3.89it/s]\n"
          ]
        },
        {
          "name": "stdout",
          "output_type": "stream",
          "text": [
            "                   all         43         47      0.952      0.849      0.944      0.516\n",
            "Speed: 0.8ms preprocess, 2.6ms inference, 0.0ms loss, 1.0ms postprocess per image\n",
            "Results saved to \u001b[1mruns\\detect\\train\u001b[0m\n",
            "Cost Time : 698.6870710849762s\n",
            "Ultralytics YOLOv8.0.216 🚀 Python-3.10.13 torch-2.0.1+cu118 CPU (Intel Core(TM) i7-9700KF 3.60GHz)\n",
            "Model summary (fused): 168 layers, 3005843 parameters, 0 gradients, 8.1 GFLOPs\n",
            "\n",
            "\u001b[34m\u001b[1mPyTorch:\u001b[0m starting from 'runs\\detect\\train\\weights\\best.pt' with input shape (1, 3, 640, 640) BCHW and output shape(s) (1, 5, 8400) (6.0 MB)\n",
            "\n",
            "\u001b[34m\u001b[1mTorchScript:\u001b[0m starting export with torch 2.0.1+cu118...\n",
            "\u001b[34m\u001b[1mTorchScript:\u001b[0m export success ✅ 1.9s, saved as 'runs\\detect\\train\\weights\\best.torchscript' (11.9 MB)\n",
            "\n",
            "Export complete (3.8s)\n",
            "Results saved to \u001b[1mH:\\Repos\\WalkerGuard-EmbeddedSystem\\yolov8\\License_Plate\\runs\\detect\\train\\weights\u001b[0m\n",
            "Predict:         yolo predict task=detect model=runs\\detect\\train\\weights\\best.torchscript imgsz=640  \n",
            "Validate:        yolo val task=detect model=runs\\detect\\train\\weights\\best.torchscript imgsz=640 data=./car_plate.yaml  \n",
            "Visualize:       https://netron.app\n",
            "Output model : runs\\detect\\train\\weights\\best.torchscript\n"
          ]
        }
      ],
      "source": [
        "import os\n",
        "import shutil\n",
        "import time\n",
        "from ultralytics import YOLO\n",
        "import torch\n",
        "\n",
        "def train():\n",
        "        train_path=\"./runs/detect/train\"\n",
        "        if os.path.exists(train_path):\n",
        "            shutil.rmtree(train_path)\n",
        "        model = YOLO(\"YOLOv8n.pt\")\n",
        "        print(\"Training.........\")\n",
        "        t1=time.time()\n",
        "        model.train(data=\"./car_plate.yaml\", epochs=150, imgsz=640)\n",
        "        t2=time.time()\n",
        "        print(f'Cost Time : {t2-t1}s')\n",
        "        path=model.export()\n",
        "        print(f'Output model : {path}')\n",
        "if __name__=='__main__':\n",
        "    if not torch.cuda.is_available():\n",
        "        print(\"cuda is not available\")\n",
        "    else:\n",
        "        print(\"cuda is available\")\n",
        "        train()\n"
      ]
    },
    {
      "cell_type": "code",
      "execution_count": 4,
      "metadata": {},
      "outputs": [
        {
          "name": "stdout",
          "output_type": "stream",
          "text": [
            "Ultralytics YOLOv8.0.216 🚀 Python-3.10.13 torch-2.0.1+cu118 CPU (Intel Core(TM) i7-9700KF 3.60GHz)\n",
            "Model summary (fused): 168 layers, 3005843 parameters, 0 gradients, 8.1 GFLOPs\n",
            "\n",
            "\u001b[34m\u001b[1mPyTorch:\u001b[0m starting from 'runs\\detect\\train\\weights\\best.pt' with input shape (1, 3, 640, 640) BCHW and output shape(s) (1, 5, 8400) (6.0 MB)\n",
            "\n",
            "\u001b[34m\u001b[1mTensorFlow SavedModel:\u001b[0m starting export with tensorflow 2.10.0...\n",
            "\n",
            "\u001b[34m\u001b[1mONNX:\u001b[0m starting export with onnx 1.15.0 opset 17...\n",
            "============= Diagnostic Run torch.onnx.export version 2.0.1+cu118 =============\n",
            "verbose: False, log level: Level.ERROR\n",
            "======================= 0 NONE 0 NOTE 0 WARNING 0 ERROR ========================\n",
            "\n",
            "\u001b[34m\u001b[1mONNX:\u001b[0m simplifying with onnxsim 0.4.35...\n",
            "\u001b[34m\u001b[1mONNX:\u001b[0m export success ✅ 2.2s, saved as 'runs\\detect\\train\\weights\\best.onnx' (11.6 MB)\n",
            "\u001b[34m\u001b[1mTensorFlow SavedModel:\u001b[0m running 'onnx2tf -i \"runs\\detect\\train\\weights\\best.onnx\" -o \"runs\\detect\\train\\weights\\best_saved_model\" -nuo --verbosity info -oiqt -qt per-tensor'\n",
            "\n",
            "\u001b[07mAutomatic generation of each OP name started\u001b[0m ========================================\n",
            "\u001b[32mAutomatic generation of each OP name complete!\u001b[0m\n",
            "\n",
            "\u001b[07mModel loaded\u001b[0m ========================================================================\n",
            "\n",
            "\u001b[07mModel conversion started\u001b[0m ============================================================\n",
            "\u001b[33mWARNING:\u001b[0m The optimization process for shape estimation is skipped because it contains OPs that cannot be inferred by the standard onnxruntime.\n",
            "\u001b[33mWARNING:\u001b[0m module 'onnx' has no attribute '_serialize'\n",
            "\u001b[07msaved_model output started\u001b[0m ==========================================================\n",
            "\u001b[32msaved_model output complete!\u001b[0m\n",
            "Estimated count of arithmetic ops: 9.022 G  ops, equivalently 4.511 G  MACs\n",
            "\u001b[32mFloat32 tflite output complete!\u001b[0m\n",
            "Estimated count of arithmetic ops: 9.022 G  ops, equivalently 4.511 G  MACs\n",
            "\u001b[32mFloat16 tflite output complete!\u001b[0m\n",
            "\u001b[34mInput signature information for quantization\u001b[0m\n",
            "\u001b[34msignature_name\u001b[0m: serving_default\n",
            "\u001b[34minput_name.0\u001b[0m: images \u001b[34mshape\u001b[0m: (1, 640, 640, 3) \u001b[34mdtype\u001b[0m: <dtype: 'float32'>\n",
            "Estimated count of arithmetic ops: 9.022 G  ops, equivalently 4.511 G  MACs\n",
            "\u001b[32mDynamic Range Quantization tflite output complete!\u001b[0m\n",
            "Estimated count of arithmetic ops: 9.022 G  ops, equivalently 4.511 G  MACs\n",
            "Estimated count of arithmetic ops: 9.022 G  ops, equivalently 4.511 G  MACs\n",
            "\u001b[32mINT8 Quantization tflite output complete!\u001b[0m\n",
            "Estimated count of arithmetic ops: 9.022 G  ops, equivalently 4.511 G  MACs\n",
            "Estimated count of arithmetic ops: 9.022 G  ops, equivalently 4.511 G  MACs\n",
            "\u001b[32mFull INT8 Quantization tflite output complete!\u001b[0m\n",
            "Estimated count of arithmetic ops: 9.022 G  ops, equivalently 4.511 G  MACs\n",
            "\u001b[32mINT8 Quantization with int16 activations tflite output complete!\u001b[0m\n",
            "\u001b[34m\u001b[1mTensorFlow SavedModel:\u001b[0m export failure ❌ 114.5s: SavedModel file does not exist at: runs\\detect\\train\\weights\\best_saved_model\\{saved_model.pbtxt|saved_model.pb}\n"
          ]
        },
        {
          "name": "stderr",
          "output_type": "stream",
          "text": [
            "fully_quantize: 0, inference_type: 6, input_inference_type: FLOAT32, output_inference_type: FLOAT32\n",
            "fully_quantize: 0, inference_type: 6, input_inference_type: INT8, output_inference_type: INT8\n",
            "Traceback (most recent call last):\n",
            "  File \"C:\\Users\\henry\\.conda\\envs\\ML\\lib\\runpy.py\", line 196, in _run_module_as_main\n",
            "    return _run_code(code, main_globals, None,\n",
            "  File \"C:\\Users\\henry\\.conda\\envs\\ML\\lib\\runpy.py\", line 86, in _run_code\n",
            "    exec(code, run_globals)\n",
            "  File \"C:\\Users\\henry\\.conda\\envs\\ML\\Scripts\\onnx2tf.exe\\__main__.py\", line 7, in <module>\n",
            "  File \"C:\\Users\\henry\\.conda\\envs\\ML\\lib\\site-packages\\onnx2tf\\onnx2tf.py\", line 2291, in main\n",
            "    model = convert(\n",
            "  File \"C:\\Users\\henry\\.conda\\envs\\ML\\lib\\site-packages\\onnx2tf\\onnx2tf.py\", line 1525, in convert\n",
            "    tflite_model = converter.convert()\n",
            "  File \"C:\\Users\\henry\\.conda\\envs\\ML\\lib\\site-packages\\tensorflow\\lite\\python\\lite.py\", line 930, in wrapper\n",
            "    return self._convert_and_export_metrics(convert_func, *args, **kwargs)\n",
            "  File \"C:\\Users\\henry\\.conda\\envs\\ML\\lib\\site-packages\\tensorflow\\lite\\python\\lite.py\", line 908, in _convert_and_export_metrics\n",
            "    result = convert_func(self, *args, **kwargs)\n",
            "  File \"C:\\Users\\henry\\.conda\\envs\\ML\\lib\\site-packages\\tensorflow\\lite\\python\\lite.py\", line 1190, in convert\n",
            "    graph_def, input_tensors, output_tensors = self._load_saved_model(\n",
            "  File \"C:\\Users\\henry\\.conda\\envs\\ML\\lib\\site-packages\\tensorflow\\lite\\python\\convert_phase.py\", line 215, in wrapper\n",
            "    raise error from None  # Re-throws the exception.\n",
            "  File \"C:\\Users\\henry\\.conda\\envs\\ML\\lib\\site-packages\\tensorflow\\lite\\python\\convert_phase.py\", line 205, in wrapper\n",
            "    return func(*args, **kwargs)\n",
            "  File \"C:\\Users\\henry\\.conda\\envs\\ML\\lib\\site-packages\\tensorflow\\lite\\python\\lite.py\", line 980, in _load_saved_model\n",
            "    saved_model = _loader_impl.SavedModelLoader(saved_model_dir)\n",
            "  File \"C:\\Users\\henry\\.conda\\envs\\ML\\lib\\site-packages\\tensorflow\\python\\saved_model\\loader_impl.py\", line 355, in __init__\n",
            "    self._saved_model = parse_saved_model(export_dir)\n",
            "  File \"C:\\Users\\henry\\.conda\\envs\\ML\\lib\\site-packages\\tensorflow\\python\\saved_model\\loader_impl.py\", line 115, in parse_saved_model\n",
            "    raise IOError(\n",
            "OSError: SavedModel file does not exist at: runs\\detect\\train\\weights\\best_saved_model\\{saved_model.pbtxt|saved_model.pb}\n",
            "Traceback (most recent call last):\n",
            "  File \"c:\\Users\\henry\\.conda\\envs\\ML\\lib\\runpy.py\", line 196, in _run_module_as_main\n",
            "    return _run_code(code, main_globals, None,\n",
            "  File \"c:\\Users\\henry\\.conda\\envs\\ML\\lib\\runpy.py\", line 86, in _run_code\n",
            "    exec(code, run_globals)\n",
            "  File \"C:\\Users\\henry\\.conda\\envs\\ML\\Scripts\\yolo.exe\\__main__.py\", line 7, in <module>\n",
            "    sys.exit(entrypoint())\n",
            "  File \"c:\\Users\\henry\\.conda\\envs\\ML\\lib\\site-packages\\ultralytics\\cfg\\__init__.py\", line 445, in entrypoint\n",
            "    getattr(model, mode)(**overrides)  # default args from model\n",
            "  File \"c:\\Users\\henry\\.conda\\envs\\ML\\lib\\site-packages\\ultralytics\\engine\\model.py\", line 310, in export\n",
            "    return Exporter(overrides=args, _callbacks=self.callbacks)(model=self.model)\n",
            "  File \"c:\\Users\\henry\\.conda\\envs\\ML\\lib\\site-packages\\torch\\utils\\_contextlib.py\", line 115, in decorate_context\n",
            "    return func(*args, **kwargs)\n",
            "  File \"c:\\Users\\henry\\.conda\\envs\\ML\\lib\\site-packages\\ultralytics\\engine\\exporter.py\", line 261, in __call__\n",
            "    f[5], keras_model = self.export_saved_model()\n",
            "  File \"c:\\Users\\henry\\.conda\\envs\\ML\\lib\\site-packages\\ultralytics\\engine\\exporter.py\", line 122, in outer_func\n",
            "    raise e\n",
            "  File \"c:\\Users\\henry\\.conda\\envs\\ML\\lib\\site-packages\\ultralytics\\engine\\exporter.py\", line 117, in outer_func\n",
            "    f, model = inner_func(*args, **kwargs)\n",
            "  File \"c:\\Users\\henry\\.conda\\envs\\ML\\lib\\site-packages\\ultralytics\\engine\\exporter.py\", line 714, in export_saved_model\n",
            "    return str(f), tf.saved_model.load(f, tags=None, options=None)  # load saved_model as Keras model\n",
            "  File \"c:\\Users\\henry\\.conda\\envs\\ML\\lib\\site-packages\\tensorflow\\python\\saved_model\\load.py\", line 800, in load\n",
            "    result = load_partial(export_dir, None, tags, options)[\"root\"]\n",
            "  File \"c:\\Users\\henry\\.conda\\envs\\ML\\lib\\site-packages\\tensorflow\\python\\saved_model\\load.py\", line 905, in load_partial\n",
            "    loader_impl.parse_saved_model_with_debug_info(export_dir))\n",
            "  File \"c:\\Users\\henry\\.conda\\envs\\ML\\lib\\site-packages\\tensorflow\\python\\saved_model\\loader_impl.py\", line 57, in parse_saved_model_with_debug_info\n",
            "    saved_model = parse_saved_model(export_dir)\n",
            "  File \"c:\\Users\\henry\\.conda\\envs\\ML\\lib\\site-packages\\tensorflow\\python\\saved_model\\loader_impl.py\", line 115, in parse_saved_model\n",
            "    raise IOError(\n",
            "OSError: SavedModel file does not exist at: runs\\detect\\train\\weights\\best_saved_model\\{saved_model.pbtxt|saved_model.pb}\n"
          ]
        },
        {
          "name": "stdout",
          "output_type": "stream",
          "text": [
            "Ultralytics YOLOv8.0.216 🚀 Python-3.10.13 torch-2.0.1+cu118 CPU (Intel Core(TM) i7-9700KF 3.60GHz)\n",
            "Model summary (fused): 168 layers, 3005843 parameters, 0 gradients, 8.1 GFLOPs\n",
            "\n",
            "\u001b[34m\u001b[1mPyTorch:\u001b[0m starting from 'runs\\detect\\train\\weights\\best.pt' with input shape (1, 3, 640, 640) BCHW and output shape(s) (1, 5, 8400) (6.0 MB)\n",
            "\n",
            "\u001b[34m\u001b[1mTensorFlow SavedModel:\u001b[0m starting export with tensorflow 2.10.0...\n",
            "\n",
            "\u001b[34m\u001b[1mONNX:\u001b[0m starting export with onnx 1.15.0 opset 17...\n",
            "============= Diagnostic Run torch.onnx.export version 2.0.1+cu118 =============\n",
            "verbose: False, log level: Level.ERROR\n",
            "======================= 0 NONE 0 NOTE 0 WARNING 0 ERROR ========================\n",
            "\n",
            "\u001b[34m\u001b[1mONNX:\u001b[0m simplifying with onnxsim 0.4.35...\n",
            "\u001b[34m\u001b[1mONNX:\u001b[0m export success ✅ 2.5s, saved as 'runs\\detect\\train\\weights\\best.onnx' (11.6 MB)\n",
            "\u001b[34m\u001b[1mTensorFlow SavedModel:\u001b[0m running 'onnx2tf -i \"runs\\detect\\train\\weights\\best.onnx\" -o \"runs\\detect\\train\\weights\\best_saved_model\" -nuo --verbosity info -oiqt -qt per-tensor'\n",
            "\n",
            "\u001b[07mAutomatic generation of each OP name started\u001b[0m ========================================\n",
            "\u001b[32mAutomatic generation of each OP name complete!\u001b[0m\n",
            "\n",
            "\u001b[07mModel loaded\u001b[0m ========================================================================\n",
            "\n",
            "\u001b[07mModel conversion started\u001b[0m ============================================================\n",
            "\u001b[33mWARNING:\u001b[0m The optimization process for shape estimation is skipped because it contains OPs that cannot be inferred by the standard onnxruntime.\n",
            "\u001b[33mWARNING:\u001b[0m module 'onnx' has no attribute '_serialize'\n",
            "\u001b[07msaved_model output started\u001b[0m ==========================================================\n",
            "\u001b[32msaved_model output complete!\u001b[0m\n",
            "Estimated count of arithmetic ops: 9.022 G  ops, equivalently 4.511 G  MACs\n",
            "\u001b[32mFloat32 tflite output complete!\u001b[0m\n",
            "Estimated count of arithmetic ops: 9.022 G  ops, equivalently 4.511 G  MACs\n",
            "\u001b[32mFloat16 tflite output complete!\u001b[0m\n",
            "\u001b[34mInput signature information for quantization\u001b[0m\n",
            "\u001b[34msignature_name\u001b[0m: serving_default\n",
            "\u001b[34minput_name.0\u001b[0m: images \u001b[34mshape\u001b[0m: (1, 640, 640, 3) \u001b[34mdtype\u001b[0m: <dtype: 'float32'>\n",
            "Estimated count of arithmetic ops: 9.022 G  ops, equivalently 4.511 G  MACs\n",
            "\u001b[32mDynamic Range Quantization tflite output complete!\u001b[0m\n",
            "Estimated count of arithmetic ops: 9.022 G  ops, equivalently 4.511 G  MACs\n",
            "Estimated count of arithmetic ops: 9.022 G  ops, equivalently 4.511 G  MACs\n",
            "\u001b[32mINT8 Quantization tflite output complete!\u001b[0m\n",
            "Estimated count of arithmetic ops: 9.022 G  ops, equivalently 4.511 G  MACs\n",
            "Estimated count of arithmetic ops: 9.022 G  ops, equivalently 4.511 G  MACs\n",
            "\u001b[32mFull INT8 Quantization tflite output complete!\u001b[0m\n",
            "Estimated count of arithmetic ops: 9.022 G  ops, equivalently 4.511 G  MACs\n",
            "\u001b[32mINT8 Quantization with int16 activations tflite output complete!\u001b[0m\n",
            "Estimated count of arithmetic ops: 9.022 G  ops, equivalently 4.511 G  MACs\n",
            "\u001b[32mFull INT8 Quantization with int16 activations tflite output complete!\u001b[0m\n",
            "\u001b[34m\u001b[1mTensorFlow SavedModel:\u001b[0m export success ✅ 145.8s, saved as 'runs\\detect\\train\\weights\\best_saved_model' (39.1 MB)\n",
            "\n",
            "\u001b[34m\u001b[1mTensorFlow Lite:\u001b[0m starting export with tensorflow 2.10.0...\n",
            "\u001b[34m\u001b[1mTensorFlow Lite:\u001b[0m export success ✅ 0.0s, saved as 'runs\\detect\\train\\weights\\best_saved_model\\best_int8.tflite' (3.0 MB)\n",
            "\n",
            "Export complete (148.4s)\n",
            "Results saved to \u001b[1mH:\\Repos\\WalkerGuard-EmbeddedSystem\\yolov8\\License_Plate\\runs\\detect\\train\\weights\u001b[0m\n",
            "Predict:         yolo predict task=detect model=runs\\detect\\train\\weights\\best_saved_model\\best_int8.tflite imgsz=640 int8 \n",
            "Validate:        yolo val task=detect model=runs\\detect\\train\\weights\\best_saved_model\\best_int8.tflite imgsz=640 data=./car_plate.yaml int8 \n",
            "Visualize:       https://netron.app\n",
            "💡 Learn more at https://docs.ultralytics.com/modes/export\n"
          ]
        },
        {
          "name": "stderr",
          "output_type": "stream",
          "text": [
            "fully_quantize: 0, inference_type: 6, input_inference_type: FLOAT32, output_inference_type: FLOAT32\n",
            "fully_quantize: 0, inference_type: 6, input_inference_type: INT8, output_inference_type: INT8\n",
            "2023-11-23 23:29:11.839860: E tensorflow/stream_executor/cuda/cuda_driver.cc:265] failed call to cuInit: CUDA_ERROR_NO_DEVICE: no CUDA-capable device is detected\n"
          ]
        }
      ],
      "source": [
        "\n",
        "!yolo export model=\"./runs/detect/train/weights/best.pt\" format=tflite int8=true"
      ]
    }
  ],
  "metadata": {
    "colab": {
      "provenance": []
    },
    "kernelspec": {
      "display_name": "Python 3",
      "name": "python3"
    },
    "language_info": {
      "codemirror_mode": {
        "name": "ipython",
        "version": 3
      },
      "file_extension": ".py",
      "mimetype": "text/x-python",
      "name": "python",
      "nbconvert_exporter": "python",
      "pygments_lexer": "ipython3",
      "version": "3.10.13"
    }
  },
  "nbformat": 4,
  "nbformat_minor": 0
}
