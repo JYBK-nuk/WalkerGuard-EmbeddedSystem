{
  "cells": [
    {
      "cell_type": "code",
      "execution_count": 1,
      "metadata": {
        "colab": {
          "base_uri": "https://localhost:8080/"
        },
        "id": "sMIcUO7S4P2I",
        "outputId": "d0b645db-a756-4b6b-99ad-54a487601110",
        "vscode": {
          "languageId": "powershell"
        }
      },
      "outputs": [
        {
          "name": "stdout",
          "output_type": "stream",
          "text": [
            "Requirement already satisfied: ultralytics in /home/henry753951/miniconda3/envs/ML-cuda11.8/lib/python3.11/site-packages (8.0.225)\n",
            "Requirement already satisfied: matplotlib>=3.3.0 in /home/henry753951/miniconda3/envs/ML-cuda11.8/lib/python3.11/site-packages (from ultralytics) (3.8.2)\n",
            "Requirement already satisfied: numpy>=1.22.2 in /home/henry753951/miniconda3/envs/ML-cuda11.8/lib/python3.11/site-packages (from ultralytics) (1.26.2)\n",
            "Requirement already satisfied: opencv-python>=4.6.0 in /home/henry753951/miniconda3/envs/ML-cuda11.8/lib/python3.11/site-packages (from ultralytics) (4.8.1.78)\n",
            "Requirement already satisfied: pillow>=7.1.2 in /home/henry753951/miniconda3/envs/ML-cuda11.8/lib/python3.11/site-packages (from ultralytics) (10.1.0)\n",
            "Requirement already satisfied: pyyaml>=5.3.1 in /home/henry753951/miniconda3/envs/ML-cuda11.8/lib/python3.11/site-packages (from ultralytics) (6.0.1)\n",
            "Requirement already satisfied: requests>=2.23.0 in /home/henry753951/miniconda3/envs/ML-cuda11.8/lib/python3.11/site-packages (from ultralytics) (2.31.0)\n",
            "Requirement already satisfied: scipy>=1.4.1 in /home/henry753951/miniconda3/envs/ML-cuda11.8/lib/python3.11/site-packages (from ultralytics) (1.11.4)\n",
            "Requirement already satisfied: torch>=1.8.0 in /home/henry753951/miniconda3/envs/ML-cuda11.8/lib/python3.11/site-packages (from ultralytics) (2.1.1)\n",
            "Requirement already satisfied: torchvision>=0.9.0 in /home/henry753951/miniconda3/envs/ML-cuda11.8/lib/python3.11/site-packages (from ultralytics) (0.16.1)\n",
            "Requirement already satisfied: tqdm>=4.64.0 in /home/henry753951/miniconda3/envs/ML-cuda11.8/lib/python3.11/site-packages (from ultralytics) (4.66.1)\n",
            "Requirement already satisfied: pandas>=1.1.4 in /home/henry753951/miniconda3/envs/ML-cuda11.8/lib/python3.11/site-packages (from ultralytics) (2.1.4)\n",
            "Requirement already satisfied: seaborn>=0.11.0 in /home/henry753951/miniconda3/envs/ML-cuda11.8/lib/python3.11/site-packages (from ultralytics) (0.13.0)\n",
            "Requirement already satisfied: psutil in /home/henry753951/miniconda3/envs/ML-cuda11.8/lib/python3.11/site-packages (from ultralytics) (5.9.5)\n",
            "Requirement already satisfied: py-cpuinfo in /home/henry753951/miniconda3/envs/ML-cuda11.8/lib/python3.11/site-packages (from ultralytics) (9.0.0)\n",
            "Requirement already satisfied: thop>=0.1.1 in /home/henry753951/miniconda3/envs/ML-cuda11.8/lib/python3.11/site-packages (from ultralytics) (0.1.1.post2209072238)\n",
            "Requirement already satisfied: contourpy>=1.0.1 in /home/henry753951/miniconda3/envs/ML-cuda11.8/lib/python3.11/site-packages (from matplotlib>=3.3.0->ultralytics) (1.2.0)\n",
            "Requirement already satisfied: cycler>=0.10 in /home/henry753951/miniconda3/envs/ML-cuda11.8/lib/python3.11/site-packages (from matplotlib>=3.3.0->ultralytics) (0.12.1)\n",
            "Requirement already satisfied: fonttools>=4.22.0 in /home/henry753951/miniconda3/envs/ML-cuda11.8/lib/python3.11/site-packages (from matplotlib>=3.3.0->ultralytics) (4.46.0)\n",
            "Requirement already satisfied: kiwisolver>=1.3.1 in /home/henry753951/miniconda3/envs/ML-cuda11.8/lib/python3.11/site-packages (from matplotlib>=3.3.0->ultralytics) (1.4.5)\n",
            "Requirement already satisfied: packaging>=20.0 in /home/henry753951/miniconda3/envs/ML-cuda11.8/lib/python3.11/site-packages (from matplotlib>=3.3.0->ultralytics) (23.2)\n",
            "Requirement already satisfied: pyparsing>=2.3.1 in /home/henry753951/miniconda3/envs/ML-cuda11.8/lib/python3.11/site-packages (from matplotlib>=3.3.0->ultralytics) (3.1.1)\n",
            "Requirement already satisfied: python-dateutil>=2.7 in /home/henry753951/miniconda3/envs/ML-cuda11.8/lib/python3.11/site-packages (from matplotlib>=3.3.0->ultralytics) (2.8.2)\n",
            "Requirement already satisfied: pytz>=2020.1 in /home/henry753951/miniconda3/envs/ML-cuda11.8/lib/python3.11/site-packages (from pandas>=1.1.4->ultralytics) (2023.3.post1)\n",
            "Requirement already satisfied: tzdata>=2022.1 in /home/henry753951/miniconda3/envs/ML-cuda11.8/lib/python3.11/site-packages (from pandas>=1.1.4->ultralytics) (2023.3)\n",
            "Requirement already satisfied: charset-normalizer<4,>=2 in /home/henry753951/miniconda3/envs/ML-cuda11.8/lib/python3.11/site-packages (from requests>=2.23.0->ultralytics) (3.3.2)\n",
            "Requirement already satisfied: idna<4,>=2.5 in /home/henry753951/miniconda3/envs/ML-cuda11.8/lib/python3.11/site-packages (from requests>=2.23.0->ultralytics) (3.6)\n",
            "Requirement already satisfied: urllib3<3,>=1.21.1 in /home/henry753951/miniconda3/envs/ML-cuda11.8/lib/python3.11/site-packages (from requests>=2.23.0->ultralytics) (2.1.0)\n",
            "Requirement already satisfied: certifi>=2017.4.17 in /home/henry753951/miniconda3/envs/ML-cuda11.8/lib/python3.11/site-packages (from requests>=2.23.0->ultralytics) (2023.11.17)\n",
            "Requirement already satisfied: filelock in /home/henry753951/miniconda3/envs/ML-cuda11.8/lib/python3.11/site-packages (from torch>=1.8.0->ultralytics) (3.13.1)\n",
            "Requirement already satisfied: typing-extensions in /home/henry753951/miniconda3/envs/ML-cuda11.8/lib/python3.11/site-packages (from torch>=1.8.0->ultralytics) (4.5.0)\n",
            "Requirement already satisfied: sympy in /home/henry753951/miniconda3/envs/ML-cuda11.8/lib/python3.11/site-packages (from torch>=1.8.0->ultralytics) (1.12)\n",
            "Requirement already satisfied: networkx in /home/henry753951/miniconda3/envs/ML-cuda11.8/lib/python3.11/site-packages (from torch>=1.8.0->ultralytics) (3.1)\n",
            "Requirement already satisfied: jinja2 in /home/henry753951/miniconda3/envs/ML-cuda11.8/lib/python3.11/site-packages (from torch>=1.8.0->ultralytics) (3.1.2)\n",
            "Requirement already satisfied: fsspec in /home/henry753951/miniconda3/envs/ML-cuda11.8/lib/python3.11/site-packages (from torch>=1.8.0->ultralytics) (2023.12.1)\n",
            "Requirement already satisfied: six>=1.5 in /home/henry753951/miniconda3/envs/ML-cuda11.8/lib/python3.11/site-packages (from python-dateutil>=2.7->matplotlib>=3.3.0->ultralytics) (1.16.0)\n",
            "Requirement already satisfied: MarkupSafe>=2.0 in /home/henry753951/miniconda3/envs/ML-cuda11.8/lib/python3.11/site-packages (from jinja2->torch>=1.8.0->ultralytics) (2.1.3)\n",
            "Requirement already satisfied: mpmath>=0.19 in /home/henry753951/miniconda3/envs/ML-cuda11.8/lib/python3.11/site-packages (from sympy->torch>=1.8.0->ultralytics) (1.3.0)\n",
            "Note: you may need to restart the kernel to use updated packages.\n"
          ]
        }
      ],
      "source": [
        "%pip install ultralytics"
      ]
    },
    {
      "cell_type": "markdown",
      "metadata": {},
      "source": [
        "# Download dataset and convert to yolo format\n",
        "yaml 裡有"
      ]
    },
    {
      "cell_type": "code",
      "execution_count": null,
      "metadata": {
        "colab": {
          "base_uri": "https://localhost:8080/"
        },
        "id": "-NRpGtv9_B8-",
        "outputId": "8188442b-0fcd-4f7f-885c-c6be4fe9a952",
        "vscode": {
          "languageId": "powershell"
        }
      },
      "outputs": [],
      "source": [
        "# import os\n",
        "# from pathlib import Path\n",
        "\n",
        "# from ultralytics.utils.downloads import download\n",
        "\n",
        "# def visdrone2yolo(dir):\n",
        "#     from PIL import Image\n",
        "#     from tqdm import tqdm\n",
        "\n",
        "#     def convert_box(size, box):\n",
        "#         # Convert VisDrone box to YOLO xywh box\n",
        "#         dw = 1. / size[0]\n",
        "#         dh = 1. / size[1]\n",
        "#         return (box[0] + box[2] / 2) * dw, (box[1] + box[3] / 2) * dh, box[2] * dw, box[3] * dh\n",
        "\n",
        "#     (dir / 'labels').mkdir(parents=True, exist_ok=True)  # make labels directory\n",
        "#     pbar = tqdm((dir / 'annotations').glob('*.txt'), desc=f'Converting {dir}')\n",
        "#     for f in pbar:\n",
        "#         img_size = Image.open((dir / 'images' / f.name).with_suffix('.jpg')).size\n",
        "#         lines = []\n",
        "#         with open(f, 'r') as file:  # read annotation.txt\n",
        "#             for row in [x.split(',') for x in file.read().strip().splitlines()]:\n",
        "#                 if row[4] == '0':  # VisDrone 'ignored regions' class 0\n",
        "#                     continue\n",
        "#                 cls = int(row[5]) - 1\n",
        "#                 box = convert_box(img_size, tuple(map(int, row[:4])))\n",
        "#                 lines.append(f\"{cls} {' '.join(f'{x:.6f}' for x in box)}\\n\")\n",
        "#                 with open(str(f).replace(f'{os.sep}annotations{os.sep}', f'{os.sep}labels{os.sep}'), 'w') as fl:\n",
        "#                     fl.writelines(lines)  # write label.txt\n",
        "\n",
        "\n",
        "#   # Download\n",
        "# dir = Path('../datasets')  # dataset root dir\n",
        "# urls = ['https://github.com/ultralytics/yolov5/releases/download/v1.0/VisDrone2019-DET-train.zip',\n",
        "#       'https://github.com/ultralytics/yolov5/releases/download/v1.0/VisDrone2019-DET-val.zip',\n",
        "#       'https://github.com/ultralytics/yolov5/releases/download/v1.0/VisDrone2019-DET-test-dev.zip',\n",
        "#       'https://github.com/ultralytics/yolov5/releases/download/v1.0/VisDrone2019-DET-test-challenge.zip']\n",
        "# download(urls, dir=dir, curl=True, threads=4)\n",
        "\n",
        "#   # Convert\n",
        "# for d in 'VisDrone2019-DET-train', 'VisDrone2019-DET-val', 'VisDrone2019-DET-test-dev':\n",
        "#     visdrone2yolo(dir / d)  # convert VisDrone annotations to YOLO labels"
      ]
    },
    {
      "cell_type": "markdown",
      "metadata": {},
      "source": [
        "# Check CUDA (colab)"
      ]
    },
    {
      "cell_type": "code",
      "execution_count": 4,
      "metadata": {
        "vscode": {
          "languageId": "powershell"
        }
      },
      "outputs": [
        {
          "name": "stdout",
          "output_type": "stream",
          "text": [
            "Mon Dec 11 00:31:21 2023       \n",
            "+---------------------------------------------------------------------------------------+\n",
            "| NVIDIA-SMI 535.103                Driver Version: 537.13       CUDA Version: 12.2     |\n",
            "|-----------------------------------------+----------------------+----------------------+\n",
            "| GPU  Name                 Persistence-M | Bus-Id        Disp.A | Volatile Uncorr. ECC |\n",
            "| Fan  Temp   Perf          Pwr:Usage/Cap |         Memory-Usage | GPU-Util  Compute M. |\n",
            "|                                         |                      |               MIG M. |\n",
            "|=========================================+======================+======================|\n",
            "|   0  NVIDIA GeForce RTX 2070 ...    On  | 00000000:01:00.0  On |                  N/A |\n",
            "| 31%   39C    P5              35W / 255W |   2255MiB /  8192MiB |     10%      Default |\n",
            "|                                         |                      |                  N/A |\n",
            "+-----------------------------------------+----------------------+----------------------+\n",
            "                                                                                         \n",
            "+---------------------------------------------------------------------------------------+\n",
            "| Processes:                                                                            |\n",
            "|  GPU   GI   CI        PID   Type   Process name                            GPU Memory |\n",
            "|        ID   ID                                                             Usage      |\n",
            "|=======================================================================================|\n",
            "|  No running processes found                                                           |\n",
            "+---------------------------------------------------------------------------------------+\n"
          ]
        }
      ],
      "source": [
        "!nvidia-smi"
      ]
    },
    {
      "cell_type": "code",
      "execution_count": null,
      "metadata": {
        "id": "QqzaqqG8Rfeq",
        "vscode": {
          "languageId": "powershell"
        }
      },
      "outputs": [],
      "source": [
        "!apt-get update;\n",
        "!wget https://developer.nvidia.com/compute/cuda/10.0/Prod/local_installers/cuda-repo-ubuntu1604-10-0-local-10.0.130-410.48_1.0-1_amd64 -O cuda-repo-ubuntu1604-10-0-local-10.0.130-410.48_1.0-1_amd64.deb\n",
        "!dpkg -i cuda-repo-ubuntu1604-10-0-local-10.0.130-410.48_1.0-1_amd64.deb\n",
        "!apt-key add /var/cuda-repo-10-0-local/7fa2af80.pub\n",
        "!apt-get update\n",
        "!apt-get -y install gcc-7 g++-7\n",
        "!apt-get -y install cuda\n",
        "!export PATH=/usr/local/cuda/bin${PATH:+:${PATH}}\n",
        "!export LD_LIBRARY_PATH=/usr/local/cuda/lib64\\${LD_LIBRARY_PATH:+:${LD_LIBRARY_PATH}}\n",
        "%pip install git+git://github.com/andreinechaev/nvcc4jupyter.git\n",
        "%load_ext nvcc_plugin\n",
        "!nvidia-smi\n",
        "!free -g\n",
        "\n",
        "%cd /usr/local/cuda-10.0/samples/1_Utilities/deviceQuery\n",
        "!ls\n",
        "!make\n",
        "!./deviceQuery\n",
        "\n",
        "%cd /usr/local/cuda-10.0/samples/1_Utilities/bandwidthTest\n",
        "!ls\n",
        "!make\n",
        "!./bandwidthTest"
      ]
    },
    {
      "cell_type": "code",
      "execution_count": 4,
      "metadata": {
        "vscode": {
          "languageId": "powershell"
        }
      },
      "outputs": [
        {
          "name": "stdout",
          "output_type": "stream",
          "text": [
            "/mnt/h/Repos/WalkerGuard-EmbeddedSystem/PedestrianVehicleDetection/train\n"
          ]
        }
      ],
      "source": [
        "!pwd"
      ]
    },
    {
      "cell_type": "markdown",
      "metadata": {},
      "source": [
        "# Train"
      ]
    },
    {
      "cell_type": "code",
      "execution_count": 1,
      "metadata": {
        "colab": {
          "base_uri": "https://localhost:8080/"
        },
        "id": "cAKqjf43NWvX",
        "outputId": "1784898a-1f9c-45c5-ea6f-6a0264c9f44e",
        "vscode": {
          "languageId": "powershell"
        }
      },
      "outputs": [
        {
          "name": "stdout",
          "output_type": "stream",
          "text": [
            "h:\\Repos\\WalkerGuard-EmbeddedSystem\\PedestrianVehicleDetection\\train\n",
            "New https://pypi.org/project/ultralytics/8.0.226 available 😃 Update with 'pip install -U ultralytics'\n",
            "Ultralytics YOLOv8.0.216 🚀 Python-3.9.18 torch-2.1.1+cu118 CUDA:0 (NVIDIA GeForce RTX 2070 SUPER, 8192MiB)\n",
            "\u001b[34m\u001b[1mengine\\trainer: \u001b[0mtask=detect, mode=train, model=yolov8n.pt, data=VisDrone.yaml, epochs=50, patience=50, batch=16, imgsz=320, save=True, save_period=-1, cache=False, device=None, workers=8, project=None, name=train5, exist_ok=False, pretrained=True, optimizer=auto, verbose=True, seed=0, deterministic=True, single_cls=False, rect=False, cos_lr=False, close_mosaic=10, resume=False, amp=True, fraction=1.0, profile=False, freeze=None, overlap_mask=True, mask_ratio=4, dropout=0.0, val=True, split=val, save_json=False, save_hybrid=False, conf=None, iou=0.7, max_det=300, half=False, dnn=False, plots=True, source=None, show=False, save_txt=False, save_conf=False, save_crop=False, show_labels=True, show_conf=True, vid_stride=1, stream_buffer=False, line_width=None, visualize=False, augment=False, agnostic_nms=False, classes=None, retina_masks=False, boxes=True, format=torchscript, keras=False, optimize=False, int8=False, dynamic=False, simplify=False, opset=None, workspace=4, nms=False, lr0=0.01, lrf=0.01, momentum=0.937, weight_decay=0.0005, warmup_epochs=3.0, warmup_momentum=0.8, warmup_bias_lr=0.1, box=7.5, cls=0.5, dfl=1.5, pose=12.0, kobj=1.0, label_smoothing=0.0, nbs=64, hsv_h=0.015, hsv_s=0.7, hsv_v=0.4, degrees=0.0, translate=0.1, scale=0.5, shear=0.0, perspective=0.0, flipud=0.0, fliplr=0.5, mosaic=1.0, mixup=0.0, copy_paste=0.0, cfg=None, tracker=botsort.yaml, save_dir=runs\\detect\\train5\n",
            "\n",
            "Dataset 'VisDrone.yaml' images not found ⚠️, missing path 'H:\\Repos\\WalkerGuard-EmbeddedSystem\\PedestrianVehicleDetection\\train\\datasets\\VisDrone\\VisDrone2019-DET-val\\images'\n",
            "Downloading https://github.com/ultralytics/yolov5/releases/download/v1.0/VisDrone2019-DET-train.zip to 'H:\\Repos\\WalkerGuard-EmbeddedSystem\\PedestrianVehicleDetection\\train\\datasets\\VisDrone\\VisDrone2019-DET-train.zip'...\n",
            "Downloading https://github.com/ultralytics/yolov5/releases/download/v1.0/VisDrone2019-DET-val.zip to 'H:\\Repos\\WalkerGuard-EmbeddedSystem\\PedestrianVehicleDetection\\train\\datasets\\VisDrone\\VisDrone2019-DET-val.zip'...\n",
            "Downloading https://github.com/ultralytics/yolov5/releases/download/v1.0/VisDrone2019-DET-test-challenge.zip to 'H:\\Repos\\WalkerGuard-EmbeddedSystem\\PedestrianVehicleDetection\\train\\datasets\\VisDrone\\VisDrone2019-DET-test-challenge.zip'...\n",
            "Downloading https://github.com/ultralytics/yolov5/releases/download/v1.0/VisDrone2019-DET-test-dev.zip to 'H:\\Repos\\WalkerGuard-EmbeddedSystem\\PedestrianVehicleDetection\\train\\datasets\\VisDrone\\VisDrone2019-DET-test-dev.zip'...\n"
          ]
        }
      ],
      "source": [
        "from ultralytics import YOLO\n",
        "import os\n",
        "# current dir\n",
        "print(os.getcwd())\n",
        "\n",
        "# Load a model\n",
        "model = YOLO('yolov8n.pt')  # load a pretrained model (recommended for training)\n",
        "\n",
        "# Train the model retrain\n",
        "results = model.train(data='VisDrone.yaml', epochs=50, imgsz=320)"
      ]
    },
    {
      "cell_type": "code",
      "execution_count": null,
      "metadata": {
        "id": "LeOaJy6WOQFH",
        "vscode": {
          "languageId": "powershell"
        }
      },
      "outputs": [],
      "source": [
        "#model.val()"
      ]
    },
    {
      "cell_type": "code",
      "execution_count": null,
      "metadata": {
        "colab": {
          "base_uri": "https://localhost:8080/"
        },
        "id": "fwwU3X0-gr-h",
        "outputId": "cf02785c-99a5-4c25-8c5c-d1981e1dd30c",
        "vscode": {
          "languageId": "powershell"
        }
      },
      "outputs": [
        {
          "name": "stdout",
          "output_type": "stream",
          "text": [
            "\n",
            "image 1/1 /content/datasets/VisDrone2019-DET-test-challenge/images/0000009_01723_d_0000006.jpg: 192x320 6 pedestrians, 105 cars, 1 van, 14.9ms\n",
            "Speed: 1.2ms preprocess, 14.9ms inference, 3.5ms postprocess per image at shape (1, 3, 192, 320)\n",
            "Results saved to \u001b[1mruns/detect/predict2\u001b[0m\n"
          ]
        },
        {
          "data": {
            "text/plain": [
              "[ultralytics.engine.results.Results object with attributes:\n",
              " \n",
              " boxes: ultralytics.engine.results.Boxes object\n",
              " keypoints: None\n",
              " masks: None\n",
              " names: {0: 'pedestrian', 1: 'people', 2: 'bicycle', 3: 'car', 4: 'van', 5: 'truck', 6: 'tricycle', 7: 'awning-tricycle', 8: 'bus', 9: 'motor'}\n",
              " orig_img: array([[[243, 255, 254],\n",
              "         [237, 250, 248],\n",
              "         [233, 246, 244],\n",
              "         ...,\n",
              "         [ 51, 104, 101],\n",
              "         [ 43,  96,  93],\n",
              "         [ 35,  88,  85]],\n",
              " \n",
              "        [[179, 190, 188],\n",
              "         [194, 205, 203],\n",
              "         [225, 236, 234],\n",
              "         ...,\n",
              "         [ 42,  95,  92],\n",
              "         [ 40,  93,  90],\n",
              "         [ 38,  91,  88]],\n",
              " \n",
              "        [[ 67,  75,  74],\n",
              "         [ 77,  85,  84],\n",
              "         [107, 115, 114],\n",
              "         ...,\n",
              "         [ 39,  92,  89],\n",
              "         [ 43,  96,  93],\n",
              "         [ 47, 100,  97]],\n",
              " \n",
              "        ...,\n",
              " \n",
              "        [[115, 121, 120],\n",
              "         [113, 121, 120],\n",
              "         [115, 121, 120],\n",
              "         ...,\n",
              "         [ 71,  45,  45],\n",
              "         [ 72,  46,  46],\n",
              "         [ 72,  46,  46]],\n",
              " \n",
              "        [[112, 118, 117],\n",
              "         [112, 118, 117],\n",
              "         [112, 118, 117],\n",
              "         ...,\n",
              "         [ 71,  45,  45],\n",
              "         [ 72,  46,  46],\n",
              "         [ 73,  47,  47]],\n",
              " \n",
              "        [[113, 118, 117],\n",
              "         [113, 118, 117],\n",
              "         [112, 117, 116],\n",
              "         ...,\n",
              "         [ 67,  43,  43],\n",
              "         [ 69,  45,  45],\n",
              "         [ 69,  45,  45]]], dtype=uint8)\n",
              " orig_shape: (765, 1360)\n",
              " path: '/content/datasets/VisDrone2019-DET-test-challenge/images/0000009_01723_d_0000006.jpg'\n",
              " probs: None\n",
              " save_dir: 'runs/detect/predict2'\n",
              " speed: {'preprocess': 1.2085437774658203, 'inference': 14.929056167602539, 'postprocess': 3.500699996948242}]"
            ]
          },
          "execution_count": 15,
          "metadata": {},
          "output_type": "execute_result"
        }
      ],
      "source": [
        "model = YOLO('runs/detect/train2/weights/best.pt')\n",
        "model.predict(source=\"datasets/VisDrone2019-DET-test-challenge/images/0000009_01723_d_0000006.jpg\",save=True)  # predict on an image"
      ]
    }
  ],
  "metadata": {
    "accelerator": "GPU",
    "colab": {
      "gpuType": "T4",
      "provenance": []
    },
    "kernelspec": {
      "display_name": "cv2",
      "language": "python",
      "name": "python3"
    },
    "language_info": {
      "codemirror_mode": {
        "name": "ipython",
        "version": 3
      },
      "file_extension": ".py",
      "mimetype": "text/x-python",
      "name": "python",
      "nbconvert_exporter": "python",
      "pygments_lexer": "ipython3",
      "version": "3.9.18"
    }
  },
  "nbformat": 4,
  "nbformat_minor": 0
}
